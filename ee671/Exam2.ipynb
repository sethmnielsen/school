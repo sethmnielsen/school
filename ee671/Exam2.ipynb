{
 "cells": [
  {
   "cell_type": "markdown",
   "metadata": {},
   "source": [
    "# Problem 3"
   ]
  },
  {
   "cell_type": "code",
   "execution_count": 8,
   "metadata": {},
   "outputs": [],
   "source": [
    "import numpy as np\n",
    "from scipy import linalg as spl\n",
    "\n",
    "np.set_printoptions(precision=2, suppress=True, linewidth=150)\n",
    "\n",
    "def myqr(A):\n",
    "    n = A.shape[0]\n",
    "    Q = np.eye(n)\n",
    "    for k in range(n-1):\n",
    "        Ak = (Q.T.conj() @ A)[k:,k:]\n",
    "        x = Ak[:,0].reshape((n-k,1))\n",
    "        alpha = -np.exp(1.0j*np.angle(x[0]))*spl.norm(x)\n",
    "        e = np.zeros(((n-k),1))\n",
    "        e[0] = 1.\n",
    "\n",
    "        v = x + np.sign(x[0])*alpha * e\n",
    "        v_ = np.zeros((n,1), dtype=np.complex128)\n",
    "        v_[k:] = v\n",
    "\n",
    "        Qk = np.eye(n, dtype=np.complex128) - 2* (v_ @ v_.T.conj())/ (v_.T.conj() @ v_)\n",
    "\n",
    "        Q = Q @ Qk.T.conj()\n",
    "\n",
    "    R = Q.T.conj() @ A\n",
    "\n",
    "    return Q, R"
   ]
  },
  {
   "cell_type": "code",
   "execution_count": 10,
   "metadata": {},
   "outputs": [],
   "source": [
    "n = 4   # size of square matrix\n",
    "N = 10  # number of matrices to generate\n",
    "\n",
    "A_real =      np.random.random((N,n,n))*200 - 100\n",
    "A_imag = 1.0j*np.random.random((N,n,n))*200 - 100j\n",
    "A = A_real + A_imag  # A is N complex matrices of size n x n\n",
    "\n",
    "# Initialize as True; will be set False if the checks for any matrix fail\n",
    "Q_unitary = True\n",
    "R_upperTri = True\n",
    "QR_equals_A = True\n",
    "QR_same_result = True\n",
    "\n",
    "# Call myqr function on all 10 matrices\n",
    "for i in range(N):\n",
    "    Q, R = myqr(A[i])\n",
    "    Q_, R_ = spl.qr(A[i])\n",
    "\n",
    "    # Checks\n",
    "    if not np.allclose( Q @ Q.T.conj(), np.eye(n) ):  # check if Q is unitary\n",
    "        Q_unitary = False\n",
    "\n",
    "    if not np.allclose( R, np.triu(R) ):  # check if R is upper triangular\n",
    "        R_upperTri = False\n",
    "\n",
    "    if not np.allclose( Q @ R, A[i] ):  # check if QR = A\n",
    "        QR_equals_A = False\n",
    "\n",
    "    if not ( np.allclose(Q, Q_) and np.allclose(R, R_) ):\n",
    "        QR_same_result = False"
   ]
  },
  {
   "cell_type": "code",
   "execution_count": 11,
   "metadata": {},
   "outputs": [
    {
     "name": "stdout",
     "output_type": "stream",
     "text": [
      "\n",
      "Was each Q unitary? Yes\n",
      "Was each R upper triangular? Yes\n",
      "Was QR = A true for each one? Yes\n",
      "Did both functions give the same result each time? No\n",
      "\n",
      "Printing last set of A, Q, and R matrices for display:\n",
      "\n",
      "A = \n",
      " [[ 68.23+42.76j  17.1 -16.66j -69.08-18.36j  84.56-27.82j]\n",
      " [  8.97-19.02j -65.92+33.14j -69.68-66.92j  85.58-63.52j]\n",
      " [-29.18+38.01j  19.7 -91.72j -78.35+30.j    11.16+32.j  ]\n",
      " [ 42.32+80.13j  30.03-98.62j -39.49-14.21j  42.89+26.37j]]\n",
      "Q = \n",
      " [[ 0.61+0.j    0.31+0.38j -0.12-0.23j  0.55-0.14j]\n",
      " [-0.02-0.16j -0.45+0.15j -0.12-0.78j -0.24-0.28j]\n",
      " [-0.03+0.36j -0.05-0.66j -0.52-0.21j  0.34+0.03j]\n",
      " [ 0.59+0.34j  0.22-0.2j   0.04-0.06j -0.66+0.02j]]\n",
      "R = \n",
      " [[111.88+70.11j -43.47-94.07j -45.03+11.48j 105.71 -6.46j]\n",
      " [  0.   +0.j   120.26-15.51j -29.26 -3.92j -49.41 -4.15j]\n",
      " [ -0.   +0.j     0.   +0.j   105.92-94.82j  23.62+85.99j]\n",
      " [  0.   +0.j     0.   +0.j    -0.   +0.j    24.53+27.16j]]\n",
      "\n",
      "Q and R from SciPy qr function for comparision:\n",
      "\n",
      "Q = \n",
      " [[-0.52-0.32j  0.36+0.34j -0.24-0.09j  0.47+0.32j]\n",
      " [-0.07+0.14j -0.43+0.2j  -0.61-0.5j   0.04-0.36j]\n",
      " [ 0.22-0.29j -0.13-0.65j -0.52+0.19j  0.2 +0.27j]\n",
      " [-0.32-0.61j  0.19-0.23j -0.01-0.07j -0.46-0.47j]]\n",
      "R = \n",
      " [[-132.03 +0.j     86.79+56.63j   32.07-33.64j  -86.14+61.61j]\n",
      " [   0.   +0.j    121.25 +0.j    -28.52 -7.64j  -48.47-10.43j]\n",
      " [   0.   +0.j      0.   +0.j    142.17 +0.j    -39.76+79.83j]\n",
      " [   0.   +0.j      0.   +0.j      0.   +0.j     36.6  +0.j  ]]\n"
     ]
    }
   ],
   "source": [
    "print('\\nWas each Q unitary? {ans}'.format(ans='Yes' if Q_unitary else 'No'))\n",
    "print('Was each R upper triangular? {ans}'.format(ans='Yes' if R_upperTri else 'No'))\n",
    "print('Was QR = A true for each one? {ans}'.format(ans='Yes' if QR_equals_A else 'No'))\n",
    "print('Did both functions give the same result each time? {ans}'.format(ans='Yes' if QR_same_result else 'No'))\n",
    "\n",
    "print('\\nPrinting last set of A, Q, and R matrices for display:\\n')\n",
    "print('A = \\n', A[-1])\n",
    "print('Q = \\n', Q)\n",
    "print('R = \\n', R)\n",
    "\n",
    "print('\\nQ and R from SciPy qr function for comparision:\\n')\n",
    "print('Q = \\n', Q_)\n",
    "print('R = \\n', R_)"
   ]
  },
  {
   "cell_type": "markdown",
   "metadata": {},
   "source": [
    "QR factorization is not unique. In the real case, the signs for the values of Q and R can be flipped. In the complex case, QR factorization can give quite different results."
   ]
  }
 ],
 "metadata": {
  "kernelspec": {
   "display_name": "Python 3",
   "language": "python",
   "name": "python3"
  },
  "language_info": {
   "codemirror_mode": {
    "name": "ipython",
    "version": 3
   },
   "file_extension": ".py",
   "mimetype": "text/x-python",
   "name": "python",
   "nbconvert_exporter": "python",
   "pygments_lexer": "ipython3",
   "version": "3.5.2"
  }
 },
 "nbformat": 4,
 "nbformat_minor": 2
}
