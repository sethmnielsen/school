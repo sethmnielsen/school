{
 "cells": [
  {
   "cell_type": "markdown",
   "metadata": {},
   "source": [
    "## Problem 14-15"
   ]
  },
  {
   "cell_type": "markdown",
   "metadata": {},
   "source": [
    "### a)"
   ]
  },
  {
   "cell_type": "code",
   "execution_count": 2,
   "metadata": {},
   "outputs": [
    {
     "name": "stdout",
     "output_type": "stream",
     "text": [
      "hh=\n",
      " [ 0.5  1.  -2.  -1.   0.5]\n"
     ]
    }
   ],
   "source": [
    "import numpy as np\n",
    "\n",
    "m = 5  # number of parameters\n",
    "n = 10000  # iterations\n",
    "\n",
    "h = np.array([.5,-1,-2,1,.5])  # impulse response\n",
    "hh = np.zeros(m)               # hhat - estimated parameters\n",
    "sigma = np.sqrt(0.1)\n",
    "f = np.random.randn(n) * sigma\n",
    "fn = np.hstack(([0,0,0,0],f))  # fnew\n",
    "mu = 0.1\n",
    "q = np.zeros(m)\n",
    "\n",
    "for i in range(n):\n",
    "    d = fn[i:i+5] @ h  # fn update\n",
    "    q = np.hstack((f[i],q[:-1]))  # q update\n",
    "    e = d - q @ hh\n",
    "    hh = hh + mu * q * e\n",
    "\n",
    "print('hh=\\n',hh)"
   ]
  },
  {
   "cell_type": "markdown",
   "metadata": {},
   "source": [
    "### b)"
   ]
  },
  {
   "cell_type": "code",
   "execution_count": 6,
   "metadata": {},
   "outputs": [
    {
     "name": "stdout",
     "output_type": "stream",
     "text": [
      "hh=\n",
      " [ 0.5  1.  -2.  -1.   0.5  0.   0.   0.   0.   0. ]\n"
     ]
    }
   ],
   "source": [
    "m = 10  # number of parameters\n",
    "n = 10000  # iterations\n",
    "\n",
    "h = np.array([.5,-1,-2,1,.5])  # impulse response\n",
    "hh = np.zeros(m)               # hhat - estimated parameters\n",
    "sigma = np.sqrt(0.1)\n",
    "f = np.random.randn(n) * sigma\n",
    "fn = np.hstack(([0,0,0,0],f))  # fnew\n",
    "mu = 0.1\n",
    "q = np.zeros(m)\n",
    "\n",
    "for i in range(n):\n",
    "    d = fn[i:i+5] @ h  # fn update\n",
    "    q = np.hstack((f[i],q[:-1]))  # q update\n",
    "    e = d - q @ hh\n",
    "    hh = hh + mu * q * e\n",
    "\n",
    "print('hh=\\n',hh)"
   ]
  },
  {
   "cell_type": "markdown",
   "metadata": {},
   "source": [
    "### c)"
   ]
  },
  {
   "cell_type": "code",
   "execution_count": 10,
   "metadata": {},
   "outputs": [
    {
     "name": "stdout",
     "output_type": "stream",
     "text": [
      "hh=\n",
      " [ 0.42228331  1.0923213  -2.01293018]\n"
     ]
    }
   ],
   "source": [
    "m = 3  # number of parameters\n",
    "n = 10000  # iterations\n",
    "\n",
    "h = np.array([.5,-1,-2,1,.5])  # impulse response\n",
    "hh = np.zeros(m)               # hhat - estimated parameters\n",
    "sigma = np.sqrt(0.1)\n",
    "f = np.random.randn(n) * sigma\n",
    "fn = np.hstack(([0,0,0,0],f))  # fnew\n",
    "mu = 0.1\n",
    "q = np.zeros(m)\n",
    "\n",
    "for i in range(n):\n",
    "    d = fn[i:i+5] @ h  # fn update\n",
    "    q = np.hstack((f[i],q[:-1]))  # q update\n",
    "    e = d - q @ hh\n",
    "    hh = hh + mu * q * e\n",
    "\n",
    "print('hh=\\n',hh)"
   ]
  },
  {
   "cell_type": "markdown",
   "metadata": {},
   "source": [
    "Experimentally, I found that the range of approximately $0.005 < \\mu < 3.5$ gave accurate parameter estimation."
   ]
  }
 ],
 "metadata": {
  "kernelspec": {
   "display_name": "Python 3",
   "language": "python",
   "name": "python3"
  },
  "language_info": {
   "codemirror_mode": {
    "name": "ipython",
    "version": 3
   },
   "file_extension": ".py",
   "mimetype": "text/x-python",
   "name": "python",
   "nbconvert_exporter": "python",
   "pygments_lexer": "ipython3",
   "version": "3.5.2"
  }
 },
 "nbformat": 4,
 "nbformat_minor": 2
}
