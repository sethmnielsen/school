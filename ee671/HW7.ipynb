{
 "cells": [
  {
   "cell_type": "markdown",
   "metadata": {},
   "source": [
    "# Problem 4-55"
   ]
  },
  {
   "cell_type": "code",
   "execution_count": 1,
   "metadata": {},
   "outputs": [
    {
     "name": "stdout",
     "output_type": "stream",
     "text": [
      "hh=\n",
      " [5. 4. 3. 2. 1.]\n"
     ]
    }
   ],
   "source": [
    "import numpy as np\n",
    "\n",
    "m = 5\n",
    "n = 10000\n",
    "\n",
    "h = np.array([1,2,3,4,5])\n",
    "hh = np.zeros(m)\n",
    "f = np.random.randn(n)\n",
    "fn = np.hstack(([0,0,0,0],f))\n",
    "delta = .0001\n",
    "P = 1/delta * np.eye(m)\n",
    "q = np.zeros(m)\n",
    "\n",
    "for i in range(n):\n",
    "    d = fn[i:i+5] @ h\n",
    "    q = np.hstack((f[i],q[:-1]))\n",
    "\n",
    "    k = P @ q / (1 + q.T @ P @ q)\n",
    "    e = d - q @ hh\n",
    "\n",
    "    hh = hh + k * e\n",
    "    P = P - k * q @ P\n",
    "\n",
    "print('hh=\\n',hh)"
   ]
  },
  {
   "cell_type": "markdown",
   "metadata": {},
   "source": [
    "### With only 3 parameters:"
   ]
  },
  {
   "cell_type": "code",
   "execution_count": 10,
   "metadata": {},
   "outputs": [
    {
     "name": "stdout",
     "output_type": "stream",
     "text": [
      "hh=\n",
      " [14.35694009 35.0646881  14.96112589]\n"
     ]
    }
   ],
   "source": [
    "m = 3\n",
    "n = 10000\n",
    "\n",
    "h = np.array([1,2,3,4,5])\n",
    "hh = np.zeros(m)\n",
    "f = np.random.randn(n)\n",
    "fn = np.hstack(([0,0,0,0],f))\n",
    "delta = .0001\n",
    "P = 1/delta * np.eye(m)\n",
    "q = np.zeros(m)\n",
    "\n",
    "for i in range(n):\n",
    "    d = fn[i:i+5] @ h\n",
    "    q = np.hstack((f[i],q[:-1]))\n",
    "\n",
    "    k = P @ q / (1 + q.T @ P @ q)\n",
    "    e = d - q @ hh\n",
    "\n",
    "    hh = hh + k * e\n",
    "    P = P - k * q @ P\n",
    "\n",
    "print('hh=\\n',hh)"
   ]
  },
  {
   "cell_type": "markdown",
   "metadata": {},
   "source": [
    "# Problem 5-2"
   ]
  },
  {
   "cell_type": "code",
   "execution_count": 3,
   "metadata": {},
   "outputs": [
    {
     "name": "stdout",
     "output_type": "stream",
     "text": [
      "x = [ 3.33333333 -1.        ]\n"
     ]
    }
   ],
   "source": [
    "def solve_lu(L, U, b):\n",
    "    c = b\n",
    "    m = c.size\n",
    "    x = np.zeros(m)\n",
    "    y = np.zeros(m)\n",
    "\n",
    "    # Forward substitution\n",
    "    for j in range(m):\n",
    "        y[j] = c[j] - L[j,:][:j] @ y[:j]\n",
    "\n",
    "    # Back substitution\n",
    "    for j in range(m-1,-1,-1):\n",
    "        x[j] = ( 1/U[j][j] )*( y[j] - U[j,:][j+1:] @ x[j+1:] )\n",
    "\n",
    "    return x\n",
    "\n",
    "\n",
    "L = np.array([[1,0],[2,1]])\n",
    "U = np.array([[3,4],\n",
    "              [0,5]])\n",
    "b = np.array([6,7])\n",
    "\n",
    "x = solve_lu(L,U,b)\n",
    "\n",
    "print('x =', x)"
   ]
  },
  {
   "cell_type": "markdown",
   "metadata": {},
   "source": [
    "# Problem 5-4"
   ]
  },
  {
   "cell_type": "code",
   "execution_count": 4,
   "metadata": {},
   "outputs": [
    {
     "name": "stdout",
     "output_type": "stream",
     "text": [
      "U=\n",
      " [[     2.         4.        -5.   ]\n",
      " [     0.         0.001     16.   ]\n",
      " [     0.        -0.    256007.   ]]\n",
      "L=\n",
      " [[     1.      0.      0.]\n",
      " [     3.      1.      0.]\n",
      " [     2. -16000.      1.]]\n",
      "x= [2.3748667  1.31246411 2.99991797]\n"
     ]
    }
   ],
   "source": [
    "from math import log10, floor\n",
    "from scipy import linalg as la\n",
    "\n",
    "np.set_printoptions(suppress=True)\n",
    "\n",
    "def round_sig(x, sig=3):\n",
    "    if x.size == 1 and x==0:\n",
    "        return x\n",
    "    elif type(x) != np.ndarray:\n",
    "        x = round(x, sig-int(floor(log10(abs(x))))-1)\n",
    "    else:\n",
    "        for i in range(x.size):\n",
    "            x[i] = round(x[i], sig-int(floor(log10(abs(x[i]))))-1)\n",
    "\n",
    "    return x\n",
    "\n",
    "def solve_lu(A, b):\n",
    "    c = b\n",
    "    m = A.shape[0]\n",
    "    x = np.zeros(m)\n",
    "    y = np.zeros(m)\n",
    "    E = np.array([np.eye(m)]*(m-1))\n",
    "    E_inv = np.copy(E)\n",
    "    U = np.copy(A)\n",
    "    L = np.eye(m)\n",
    "\n",
    "    # LU decomposition\n",
    "    for j in range(m-1): # loop through cols of A\n",
    "        vals = - round_sig(U[j+1:m,j] / U[j,j])\n",
    "        E[j,j+1:m,j] = vals\n",
    "        E_inv[j,j+1:m,j] = -vals\n",
    "\n",
    "        U = E[j] @ U\n",
    "        L = L @ E_inv[j]\n",
    "\n",
    "    print('U=\\n',U)\n",
    "    print('L=\\n',L)\n",
    "\n",
    "    # Forward substitution\n",
    "    for j in range(m):\n",
    "        y[j] = round_sig(c[j] - L[j,:][:j] @ y[:j])\n",
    "\n",
    "    # Back substitution\n",
    "    for j in range(m-1,-1,-1):\n",
    "        x[j] = ( 1/U[j,j] )*( y[j] - U[j,:][j+1:] @ x[j+1:] )\n",
    "\n",
    "    return x\n",
    "\n",
    "A = np.array([[2,4,-5],\n",
    "              [6,12.001,1],\n",
    "              [4,-8,-3]])\n",
    "\n",
    "b = np.array([-5,33.002,-21])\n",
    "\n",
    "x = solve_lu(A,b)\n",
    "\n",
    "print('x=',x)"
   ]
  },
  {
   "cell_type": "markdown",
   "metadata": {},
   "source": [
    "### Using pivoting:"
   ]
  },
  {
   "cell_type": "code",
   "execution_count": 5,
   "metadata": {},
   "outputs": [
    {
     "name": "stdout",
     "output_type": "stream",
     "text": [
      "U=\n",
      " [[  6.          12.001        1.        ]\n",
      " [  0.         -16.00066667  -3.66666667]\n",
      " [  0.           0.          -5.33325695]]\n",
      "L=\n",
      " [[1.         0.         0.        ]\n",
      " [0.66666667 1.         0.        ]\n",
      " [0.33333333 0.00002083 1.        ]]\n",
      "x_pivot= [0.99984587 1.99990682 3.00004297]\n"
     ]
    }
   ],
   "source": [
    "def solve_lu_pivot(A, b):\n",
    "    P, L, U = la.lu(A)\n",
    "\n",
    "    c = P.T@b\n",
    "    m = A.shape[0]\n",
    "    x = np.zeros(m)\n",
    "    y = np.zeros(m)\n",
    "\n",
    "    print('U=\\n',U)\n",
    "    print('L=\\n',L)\n",
    "\n",
    "    # Forward substitution\n",
    "    for j in range(m):\n",
    "        y[j] = round_sig(c[j] - L[j,:][:j] @ y[:j])\n",
    "\n",
    "    # Back substitution\n",
    "    for j in range(m-1,-1,-1):\n",
    "        x[j] = ( 1/U[j,j] )*( y[j] - U[j,:][j+1:] @ x[j+1:] )\n",
    "\n",
    "    return x\n",
    "\n",
    "x_pivot = solve_lu_pivot(A,b)\n",
    "\n",
    "print('x_pivot=',x_pivot)"
   ]
  },
  {
   "cell_type": "markdown",
   "metadata": {},
   "source": [
    " # Problem 5-5"
   ]
  },
  {
   "cell_type": "code",
   "execution_count": 6,
   "metadata": {},
   "outputs": [
    {
     "name": "stdout",
     "output_type": "stream",
     "text": [
      "L=\n",
      " [[2. 0. 0.]\n",
      " [3. 4. 0.]\n",
      " [2. 3. 3.]]\n",
      "U=\n",
      " [[1.   1.5  1.  ]\n",
      " [0.   1.   0.75]\n",
      " [0.   0.   1.  ]]\n",
      "D=\n",
      " [[ 4.  0.  0.]\n",
      " [ 0. 16.  0.]\n",
      " [ 0.  0.  9.]]\n"
     ]
    }
   ],
   "source": [
    "A = np.array([[4,6,4],[6,25,18],[4,18,22]])\n",
    "\n",
    "L = np.linalg.cholesky(A)\n",
    "m = L.shape[0]\n",
    "U = np.eye(m)\n",
    "D = np.eye(m)\n",
    "\n",
    "for i in range(m):\n",
    "    U[i+1:m,i] = L[i+1:m,i] / L[i,i]\n",
    "    D[i,i] = L[i,i]**2\n",
    "\n",
    "U = U.T\n",
    "\n",
    "print('L=\\n',L)\n",
    "print('U=\\n',U)\n",
    "print('D=\\n',D)\n"
   ]
  }
 ],
 "metadata": {
  "kernelspec": {
   "display_name": "Python 3",
   "language": "python",
   "name": "python3"
  },
  "language_info": {
   "codemirror_mode": {
    "name": "ipython",
    "version": 3
   },
   "file_extension": ".py",
   "mimetype": "text/x-python",
   "name": "python",
   "nbconvert_exporter": "python",
   "pygments_lexer": "ipython3",
   "version": "3.5.2"
  }
 },
 "nbformat": 4,
 "nbformat_minor": 2
}
