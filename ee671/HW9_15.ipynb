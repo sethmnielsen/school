{
 "cells": [
  {
   "cell_type": "markdown",
   "metadata": {},
   "source": [
    "# HW 9 Problem 7-15"
   ]
  },
  {
   "cell_type": "code",
   "execution_count": 4,
   "metadata": {},
   "outputs": [
    {
     "name": "stdout",
     "output_type": "stream",
     "text": [
      "Q =\n",
      " [[ 0.9874611  -0.15786254]\n",
      " [ 0.15786254  0.9874611 ]]\n",
      "\n",
      "Theta = 0.15852567876449844\n"
     ]
    }
   ],
   "source": [
    "import numpy as np\n",
    "from numpy import linalg as npl\n",
    "from scipy import linalg as spl\n",
    "\n",
    "A = np.array([[ 4.84726, -2.46789, 0.549036, -4.31815 ],\n",
    "              [ 0.813505, -3.46221, -0.251525, 2.97353]]).T\n",
    "B = np.array([[ 4.51076, -2.18889, 0.58951, -4.715],\n",
    "              [ 1.95213, -3.4499, -0.131083, 2.29282]]).T\n",
    "\n",
    "U, S, Vh = spl.svd(B.T @ A)\n",
    "\n",
    "Q = U @ Vh\n",
    "\n",
    "print('Q =\\n', Q)\n",
    "print('\\nTheta =', np.arccos(Q[0,0]))"
   ]
  }
 ],
 "metadata": {
  "kernelspec": {
   "display_name": "Python 3",
   "language": "python",
   "name": "python3"
  },
  "language_info": {
   "codemirror_mode": {
    "name": "ipython",
    "version": 3
   },
   "file_extension": ".py",
   "mimetype": "text/x-python",
   "name": "python",
   "nbconvert_exporter": "python",
   "pygments_lexer": "ipython3",
   "version": "3.5.2"
  }
 },
 "nbformat": 4,
 "nbformat_minor": 2
}
