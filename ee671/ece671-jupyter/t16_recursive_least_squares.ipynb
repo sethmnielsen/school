{
 "cells": [
  {
   "cell_type": "markdown",
   "metadata": {},
   "source": [
    "[Table of Contents](table_of_contents.ipynb)"
   ]
  },
  {
   "cell_type": "markdown",
   "metadata": {},
   "source": [
    "# Topic 16.  Recursive Least Squares\n",
    "Author: Seth Nielsen - sethmnielsen@gmail.com\n",
    "    "
   ]
  },
  {
   "cell_type": "markdown",
   "metadata": {},
   "source": [
    "##  Introduction\n",
    "Give a high level (i.e., no equations) explanation of the topic, and why it is important.\n",
    "\n",
    "In traditional \n",
    "\n",
    "\n",
    "\n",
    "* Least squares solution assumes the availability of a set of data (where the prewindowing method is used), and the computations are done on the entire block of data.\n",
    "* LS is turned into an adaptive algorithm by computing a new update to $h$ (the coefficients minimizing the LS error) as new data become available"
   ]
  },
  {
   "cell_type": "markdown",
   "metadata": {},
   "source": [
    "## Explanation of the theory\n",
    "\n",
    "Give a detailed discussion (i.e., equations galore) of the topic.  \n",
    "The emphasis here is clarity for future students learning the topic.\n",
    "\n",
    "Least squares:\n",
    "\n",
    "\\begin{equation}\n",
    "Rh = A^H d, \\text{ where } R = A^H A = \\sum_{i=1}^N q_{i}q_{i}^H \\\\\n",
    "\\text{with } q_i = \\begin{bmatrix}f[i]\\\\f[i-1]\\\\...\\\\f[i-m+1]\\end{bmatrix} \\\\\n",
    "\\text{Let } p = A^H d = \\sum_{i=1}^N q_{i}d_i \\\\\n",
    "h = R^{-1}A^{H} = R^{-1}p \\\\\n",
    "\\end{equation}\n",
    "\n",
    "Start RLS algorithm:\n",
    "\n",
    "\\begin{equation}\n",
    "R_t = \\sum_{i=1}^t q_{i}q_{i}^H \\\\\n",
    "p_t = \\sum_{i=1}^t q_{i}d_i = p_{t-1} + q_{t}d_{t} \\\\\n",
    "h_t = R_{t}^{-1}p_t \\\\\n",
    "\\end{equation}\n",
    "\n",
    "Algorithm is now adaptive, but needs to be recursive ($R_{t}^{-1}$ is currently calculated at each time step). We can break $R_t$ up as\n",
    "\n",
    "\\begin{align}\n",
    "R_t &= \\sum_{i=1}^{t-1}{q_i}{q_{i}^H} + {q_t}{q_{t}^H} \\\\\n",
    "    &= R_{t-1} + q_{t}q_{t}^H\n",
    "\\end{align}\n",
    "\n",
    "By the Sherman-Morrison formula,\n",
    "\n",
    "\\begin{equation}\n",
    "R_{t}^{-1} = R_{t-1}^{-1} - \\frac{R_{t-1}^{-1}{q_t}{q_{t}^H}R_{t-1}^{-1}}{1 + {q_{t}^H}{R_{t-1}^{-1}}{q_t}}\n",
    "\\end{equation}\n",
    "\n",
    "Let\n",
    "\n",
    "\\begin{equation}\n",
    "P_t = R_{t}^{-1} \\\\\n",
    "k_t = \\frac{R_{t-1}^{-1}{q_t}}{1 + {q_{t}^H}{R_{t-1}^{-1}}{q_t}}\n",
    "\\end{equation}\n",
    "\n",
    "Then \n",
    "\\begin{equation}\n",
    "P_t = P_{t-1} - {k_t}{q_{t}^H}{P_{t-1}}\n",
    "\\end{equation}\n"
   ]
  },
  {
   "cell_type": "markdown",
   "metadata": {},
   "source": [
    "## Simple Numerical Examples\n",
    "\n",
    "Provide some simple python code and examples that emphasize the basic concepts.\n"
   ]
  },
  {
   "cell_type": "markdown",
   "metadata": {},
   "source": [
    "## An Engineering Application\n",
    "\n",
    "Provide a more sophisticated example showing one engineering example of the topic, complete with python code."
   ]
  },
  {
   "cell_type": "code",
   "execution_count": null,
   "metadata": {},
   "outputs": [],
   "source": []
  }
 ],
 "metadata": {
  "kernelspec": {
   "display_name": "Python 3",
   "language": "python",
   "name": "python3"
  },
  "language_info": {
   "codemirror_mode": {
    "name": "ipython",
    "version": 3
   },
   "file_extension": ".py",
   "mimetype": "text/x-python",
   "name": "python",
   "nbconvert_exporter": "python",
   "pygments_lexer": "ipython3",
   "version": "3.5.2"
  }
 },
 "nbformat": 4,
 "nbformat_minor": 2
}
