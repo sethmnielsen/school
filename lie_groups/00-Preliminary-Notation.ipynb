{
 "cells": [
  {
   "cell_type": "markdown",
   "metadata": {},
   "source": [
    "[Table of Contents](table_of_contents.ipynb)"
   ]
  },
  {
   "cell_type": "markdown",
   "metadata": {},
   "source": [
    "# Chapter 0.  Introduction and Motivation"
   ]
  },
  {
   "cell_type": "markdown",
   "metadata": {},
   "source": [
    "## What is a Group?"
   ]
  },
  {
   "cell_type": "markdown",
   "metadata": {},
   "source": [
    "The Material in this section comes primarily from \n",
    "https://en.wikipedia.org/wiki/Group_(mathematics)"
   ]
  },
  {
   "cell_type": "markdown",
   "metadata": {},
   "source": [
    "A group is a set, $G$, together with an operation $\\cdot$ (called the group law of $G$) that combines any two elements $a\\in G$ and $b\\in G$ to form another element in $G$, denoted $a\\cdot b$ or $ab$. To qualify as a group, the set and operation, $(G, \\cdot)$, must satisfy four requirements known as the group axioms:\n",
    "\n",
    "1.  Closure:\n",
    "For all $a, b\\in G$, the result of the operation, $a\\cdot b$, is also in $G$.\n",
    "2.  Associativity:\n",
    "For all $a, b, c \\in G$, $(a \\cdot b) \\cdot c = a \\cdot (b \\cdot c)$.\n",
    "3.  Identity element:\n",
    "There exists a unique element $e\\in G$, called the identity element, such that for every element $a \\in G$, the equation $e \\cdot a = a \\cdot e = a$ holds. \n",
    "4.  Inverse element:\n",
    "For each $a\\in G$, there exists an element $b\\in G$, commonly denoted $a^{−1}$ and called the inverse of $a$, such that $a \\cdot b = b \\cdot a = e$, where $e$ is the identity element.\n",
    "\n",
    "Note in particular, that groups do not have any notion of linearity.  For example, there is no notion of scalar multiplication, or that if $a, b\\in G$, that $\\alpha a + \\beta b \\in G$.  Scalar multiplication and vector addition are notions that are associated with a vector space.  \n"
   ]
  },
  {
   "cell_type": "markdown",
   "metadata": {},
   "source": [
    "### Examples of groups\n",
    "\n",
    "1.  $(\\mathbb{R}, +)$, the set of real numbers with addition is a group.\n",
    "2.  The set of integers with addition $(\\mathbb{Z}, +)$ is a group.\n",
    "3.  The set of $n\\times n$ invertible matrices $\\mathcal{M}(n)$ with matrix multiplication, forms a group."
   ]
  },
  {
   "cell_type": "markdown",
   "metadata": {},
   "source": [
    "### Homomorphisms and Isomorphisms\n",
    "Group homomorphisms are functions that preserve group structure. A function $a: G \\rightarrow H$ between two groups \n",
    "    $(G, \\cdot)$ and $(H, *)$ is called a homomorphism if the equation\n",
    "    \\begin{equation}\n",
    "    a(g \\cdot k) = a(g) * a(k)\n",
    "    \\end{equation}\n",
    "holds for all elements $g, k \\in G$. In other words, the result is the same when performing the group operation \n",
    "after or before applying the map $a$. This requirement ensures that $a(1_G) = 1_H$, and also $a(g)^{−1} = a(g^{−1})$ for all $g\\in G$. Thus a group homomorphism respects all the structure of $G$ provided by the group axioms.\n",
    "\n",
    "Two groups $G$ and $H$ are called isomorphic if there exist group homomorphisms $a: G \\rightarrow H$ and $b: H \\rightarrow G$, such that applying the two functions one after another in each of the two possible orders gives the identity functions of $G$ and $H$. That is, $a(b(h)) = h$ and $b(a(g)) = g$ for any $g\\in G$ and $h\\in H$. From an abstract point of view, isomorphic groups carry the same information. For example, proving that $g \\cdot g = 1_G$ for some element $g$ of $G$ is equivalent to proving that $a(g) ∗ a(g) = 1_H$, because applying $a$ to the first equality yields the second, and applying $b$ to the second gives back the first.\n",
    "\n"
   ]
  },
  {
   "cell_type": "markdown",
   "metadata": {},
   "source": [
    "#### Example of Group Isomorphism\n",
    "\n",
    "Take the real numbers with the group law of addition, written as $(G, \\cdot) = (\\mathbb{R}, +)$, and the positive real numbers with the group law of multiplication, $(H, \\circ) = (\\mathbb{R}^+, *)$. The exponential function\n",
    "\n",
    "\\begin{equation}\n",
    "exp: \\mathbb{R} \\to \\mathbb{R}^+, \\\\\n",
    "x \\mapsto e^x\n",
    "\\end{equation}\n",
    "\n",
    "is a homomorphism between these two groups since it satisfies\n",
    "\n",
    "\\begin{equation}\n",
    "exp(x+y) = exp(x)exp(y) \\in \\mathbb{R}^+\n",
    "\\end{equation}\n",
    "\n",
    "for $x, y \\in \\mathbb{R}$. Further, it describes a group isomorphism using the group homomorphism natural logarithm as its inverse\n",
    "\n",
    "\\begin{equation}\n",
    "ln(wz) = ln(w)+ln(z) \\in \\mathbb{R}\n",
    "\\end{equation}\n",
    "\n",
    "for $w, z \\in \\mathbb{R}^+$."
   ]
  },
  {
   "cell_type": "markdown",
   "metadata": {},
   "source": [
    "## What is a Lie Group?\n",
    "A Lie Group is a group where the set $G$ is a differentiable manifold.  \n",
    "\n",
    "The manifold $G$ is said to be differentiable at $p\\in G$ if for every one dimensional parameterization $g(t)\\in G$ where $g(0)=p$ the derivative $\\frac{dg}{dt}$ exists at $t=0$.  The manifold is differentiable if it is differenetiable at every $p$.\n",
    "\n",
    "### Examples of Lie Groups\n",
    "1.  A line in $\\mathbb{R}^n$ is a Lie group.\n",
    "2.  The unit circle in $\\mathbb{R}^2$ denoted $S^1$ is a Lie group.\n",
    "3.  It turns out that the set of $n\\times n$ invertible matrices, called the general linear groups and denoted $GL(n)$ is a Lie group.\n",
    "4.  The set of orthogonal $n\\times n$ matrices, called the orthogonal groups and denoted $O(n)$ is a Lie Group.\n",
    "5.  The subset of $O(n)$ with determinant equal to one, called the special orthogonal group and denoted $SO(n)$ is a Lie group.\n",
    "6.  The unit sphere in $\\mathbb{R}^4$ denoted $S^3$ (set of unit quaternions) is a Lie group."
   ]
  },
  {
   "cell_type": "markdown",
   "metadata": {},
   "source": [
    "## What is a Lie Algebra?\n",
    "\n",
    "The Material in this section is an adaptation of the material at \n",
    "https://en.wikipedia.org/wiki/Lie_algebra\n",
    "\n",
    "An algebra over a field is a vector space with a bilinear product (https://en.wikipedia.org/wiki/Algebra_over_a_field).\n",
    "\n",
    "A Lie algebra is a vector space $\\mathfrak {g}$ over some field $F$ together with a binary operation $[\\cdot ,\\cdot ]:{\\mathfrak {g}}\\times {\\mathfrak {g}}\\to {\\mathfrak {g}}$ called the Lie bracket that satisfies the following axioms:\n",
    "\n",
    "1. Bilinearity,\n",
    "$[ax+by,z]=a[x,z]+b[y,z],\\quad [z,ax+by]=a[z,x]+b[z,y]$, for all scalars $a, b \\in F$ and all elements $x, y, z \\in {\\mathfrak {g}}$.\n",
    "\n",
    "2.  Alternativity,\n",
    "$[x,x]=0$ for all $x\\in {\\mathfrak {g}}$.\n",
    "\n",
    "3.  The Jacobi identity,\n",
    "$[x,[y,z]]+[z,[x,y]]+[y,[z,x]]=0$ for all $x, y, z \\in {\\mathfrak {g}}$.\n",
    "\n",
    "Note that bilinearity and alternativity together imply\n",
    "\n",
    "4.  Anticommutativity,\n",
    "$[x,y]=-[y,x]$, for all elements $x, y \\in {\\mathfrak {g}}$. \n",
    "\n",
    "\n",
    "Lie algebras are closely related to Lie groups. Any Lie group gives rise to a Lie algebra. Conversely, to any finite-dimensional Lie algebra over real or complex numbers, there is a corresponding connected Lie group unique up to covering (Lie's third theorem). This correspondence between Lie groups and Lie algebras allows one to study Lie groups in terms of Lie algebras.\n",
    "\n"
   ]
  },
  {
   "cell_type": "markdown",
   "metadata": {},
   "source": [
    "### Examples of Lie Algebras\n",
    "\n",
    "- The cross product in $\\mathbb{R}^3$ satisfies bilinearity, alternativity, and the Jacobi identity.  Therefore $\\mathbb{R}^3$ together with the cross product, forms a Lie algebra.\n",
    "\n",
    "- For matrix groups $[A, B]=AB-BA$ satisifies bilinearity, alternativity, and the Jacobi identity, and so any vector space over a set of matrices together with the Lie bracket $[A, B]$ forms a Lie algebra.\n",
    "\n",
    "- The trivial Lie bracket $[x, y] = 0$ obviously satisifies bilinearity, alternativity, and the Jacobi identity, and therefore, any vector space with the trivial Lie bracket forms a Lie algebra."
   ]
  },
  {
   "cell_type": "code",
   "execution_count": null,
   "metadata": {},
   "outputs": [],
   "source": []
  }
 ],
 "metadata": {
  "kernelspec": {
   "display_name": "Python 3",
   "language": "python",
   "name": "python3"
  },
  "language_info": {
   "codemirror_mode": {
    "name": "ipython",
    "version": 3
   },
   "file_extension": ".py",
   "mimetype": "text/x-python",
   "name": "python",
   "nbconvert_exporter": "python",
   "pygments_lexer": "ipython3",
   "version": "3.5.2"
  },
  "varInspector": {
   "cols": {
    "lenName": 16,
    "lenType": 16,
    "lenVar": 40
   },
   "kernels_config": {
    "python": {
     "delete_cmd_postfix": "",
     "delete_cmd_prefix": "del ",
     "library": "var_list.py",
     "varRefreshCmd": "print(var_dic_list())"
    },
    "r": {
     "delete_cmd_postfix": ") ",
     "delete_cmd_prefix": "rm(",
     "library": "var_list.r",
     "varRefreshCmd": "cat(var_dic_list()) "
    }
   },
   "types_to_exclude": [
    "module",
    "function",
    "builtin_function_or_method",
    "instance",
    "_Feature"
   ],
   "window_display": false
  }
 },
 "nbformat": 4,
 "nbformat_minor": 2
}
