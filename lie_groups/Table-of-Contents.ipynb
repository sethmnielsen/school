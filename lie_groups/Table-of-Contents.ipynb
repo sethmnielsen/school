{
 "cells": [
  {
   "cell_type": "markdown",
   "metadata": {},
   "source": [
    "<center>\n",
    "    <h1>Lie Groups in Robotics and Control</h1>\n",
    "    <h4 style=\"margin-top: 0.5em; font-weight: normal; font-style: italic\">An Implementation-focused Introduction to Lie Groups</h4>\n",
    "</center>\n",
    "\n",
    "\n",
    "## Table of Contents\n",
    "\n",
    "[**Chapter 0: Preliminary Notation**](00-Preliminary-Notation.ipynb)\n",
    ">This chapter provides definitions of groups and algebras, and defines other notation that will be used throughout the book.\n",
    "\n",
    "### Unit 1: SO(2)\n",
    "\n",
    "[**Chapter 1.1 - Notation and Kinematics**](Unit-1-SO2/1.1-Notation-and-Kinematics.ipynb)\n",
    "\n",
    "[**Chapter 1.2 - Optimization**](Unit-1-SO2/1.2-Optimization.ipynb)\n",
    "\n",
    "[**Chapter 1.3 - Solving Differential Equations**](Unit-1-SO2/1.3-Solving-Differential-Equations.ipynb)\n",
    "\n",
    "[**Chapter 1.4 - PID Control**](Unit-1-SO2/1.4-PID-Control.ipynb)\n",
    "\n",
    "[**Chapter 1.5 - Optimal Control**](Unit-1-SO2/1.5-Optimal-Control.ipynb)\n",
    "\n",
    "[**Chapter 1.6 - Estimation**](Unit-1-SO2/1.6-Estimation.ipynb)\n",
    "\n",
    "[**Chapter 1.7 - Complementary Filter**](Unit-1-SO2/1.7-Complementary-Filter.ipynb)\n",
    "\n",
    "[**Appendix A - Common Attitude Representations**](Appendices/A-Attitude-Representations.ipynb)\n",
    "\n",
    "\n",
    "## Supporting Papers and Websites\n",
    "\n",
    "- J. M. Selig, Lie Groups and Lie Algebras in Robotics, \n",
    "https://pdfs.semanticscholar.org/ec46/01c4bf6a8c4072bc16de38766c6d596e0e67.pdf\n",
    "\n",
    "- Ethan Eade, Lie Groups in Computer Vision, \n",
    "http://ethaneade.com/lie_groups.pdf\n",
    "\n",
    "- Oren Freifeld, Methods in Computer Vision: Introduction to Matrix Lie Groups,\n",
    "https://www.cs.bgu.ac.il/~mcv172/wiki.files/LecLie.pdf\n",
    "\n",
    "\n",
    "## Online Access\n",
    "\n",
    "The source code of these notebooks can be found at the BYU MAGICC GitHub account, [here](https://github.com/byu-magicc/lie_groups).\n",
    "\n",
    "For a read-only view of the notebooks, use [nbviewer](http://nbviewer.jupyter.org/github/byu-magicc/lie_groups/tree/master/). For an interactive view of the notebook without having to clone the repo onto your local machine, use [Binder](https://mybinder.org/v2/gh/byu-magicc/lie_groups/master)."
   ]
  }
 ],
 "metadata": {
  "kernelspec": {
   "display_name": "Python 3",
   "language": "python",
   "name": "python3"
  },
  "language_info": {
   "codemirror_mode": {
    "name": "ipython",
    "version": 3
   },
   "file_extension": ".py",
   "mimetype": "text/x-python",
   "name": "python",
   "nbconvert_exporter": "python",
   "pygments_lexer": "ipython3",
   "version": "3.5.2"
  },
  "varInspector": {
   "cols": {
    "lenName": 16,
    "lenType": 16,
    "lenVar": 40
   },
   "kernels_config": {
    "python": {
     "delete_cmd_postfix": "",
     "delete_cmd_prefix": "del ",
     "library": "var_list.py",
     "varRefreshCmd": "print(var_dic_list())"
    },
    "r": {
     "delete_cmd_postfix": ") ",
     "delete_cmd_prefix": "rm(",
     "library": "var_list.r",
     "varRefreshCmd": "cat(var_dic_list()) "
    }
   },
   "types_to_exclude": [
    "module",
    "function",
    "builtin_function_or_method",
    "instance",
    "_Feature"
   ],
   "window_display": false
  }
 },
 "nbformat": 4,
 "nbformat_minor": 1
}
