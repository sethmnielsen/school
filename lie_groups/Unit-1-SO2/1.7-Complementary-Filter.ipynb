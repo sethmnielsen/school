{
 "cells": [
  {
   "cell_type": "markdown",
   "metadata": {},
   "source": [
    "# Chapter 1.7 - Complementary Filter\n",
    "\n",
    "** Contributors: Randal W. Beard **\n",
    "\n",
    "### Table of Contents\n",
    "\n",
    " 1. [Introduction](#Introduction)\n",
    " 1. [Simple, Linear Complementary Filter](#Simple,-Linear-Complementary-Filter)\n",
    " 1. [Nonlinear Complementary Filter for Attitude Kinematics](#Nonlinear-Complementary-Filter-for-Attitude-Kinematics)"
   ]
  },
  {
   "cell_type": "markdown",
   "metadata": {},
   "source": [
    "## Introduction\n",
    "\n",
    "The discussion in this section is adapted from \n",
    "\n",
    "Robert Mahony, Tarek Hamel, Jean-Michel Pflimlin, \"Nonlinear Complementary Filters on the Special Orthogonal Group,\" IEEE Transactions on Automatic Control, vol. 53, no. 5, June 2008, p. 1203-1218.\n"
   ]
  },
  {
   "cell_type": "markdown",
   "metadata": {},
   "source": [
    "## Simple, Linear Complementary Filter\n",
    "Consider the problem of estimating the roll angle of a VTOL using only gyro and accelerometer measurements.  A simple differential equation for the roll angle is given by\n",
    "$$\n",
    "\\dot{\\phi} = p\n",
    "$$\n",
    "where $\\phi$ is the roll angle and $p$ is the roll rate.  The gyro measurement can be written as \n",
    "$$\n",
    "p_{gyro} = p + b + \\eta_{gyro}\n",
    "$$\n",
    "where $b$ is a slowly varying bias and $\\eta_{gyro}$ is zero mean Gaussian noise.  The gyro measurement can be integrated to produce\n",
    "\\begin{align*}\n",
    "\\hat{\\phi}_{gyro} &= \\int p_{gyro} = \\int p + \\int b + \\int \\eta_{gyro} \\\\\n",
    "&= \\phi + \\int b + \\int \\eta_{gyro}.  \n",
    "\\end{align*}\n",
    "In the zero noise case, we note that $\\int b$ is a low frequency signal.  \n",
    "\n",
    "If the output of the accelerometer is $\\mathbf{a} = (a_x, a_y, a_z)^\\top$ where the body frame axes are aligned so that the $x$-axis is out the noise of the aircraft, the $y$-axis is out the right wing, and the $a$-axis is down, then when the aircraft is not accelerating, the roll angle is given by $\\hat{\\phi}_{accel}=atan2(a_y, a_z)$.  In general, the accelerometer measurement can be modeled as\n",
    "$$\n",
    "\\hat{\\phi}_{accel} = \\phi + m(t) + \\eta_{accel}\n",
    "$$ \n",
    "where $m(t)$ is a signal that is due to the manuevering of the aircraft, and $\\eta_{accel}$ is zero mean Gaussian noise.  We will assume that $m(t)$ is a high frequency signal.  \n",
    "\n",
    "The idea of the complementary filter is to estimate the roll angle by blending a high pass version of $\\hat{\\phi}_{gyro}$ and a low pass version of $\\hat{\\phi}_{accel}$ as \n",
    "$$\n",
    "\\hat{\\phi} = H_{HPF}(s) \\hat{\\phi}_{gyro} + H_{LPF}(s) \\hat{\\phi}_{accel}\n",
    "$$\n",
    "where $H_{HPF}(s)$ is a high pass filter and $H_{LPF}(s)$ is a low pass filter.  Since\n",
    "\\begin{align*}\n",
    "\\hat{\\phi} &= H_{HPF}(s) \\hat{\\phi}_{gyro} + H_{LPF}(s) \\hat{\\phi}_{accel} \\\\\n",
    "&= H_{HPF}(s) \\left[\\phi + \\int b + \\int \\eta_{gyro}\\right] + H_{LPF}(s) \\left[\\phi + m(t) + \\eta_{accel}\\right] \\\\\n",
    "&= \\left[ H_{HPF}(s) + H_{LPF}(s) \\right] \\phi + H_{HPF}(s) \\left[\\int b + \\int \\eta_{gyro}\\right] + H_{LPF}(s) \\left[m(t) + \\eta_{accel}\\right],\n",
    "\\end{align*}\n",
    "we need to select the filters $H_{HPF}$ and $H_{LPF}$ so that\n",
    "$$\n",
    "H_{HPF}(s) + H_{LPF}(s) = 1.\n",
    "$$\n",
    "For example, if $H_{LPF}(s) = \\frac{k_p}{s+k_p}$ then we need to select $H_{HPF}(s) = \\frac{s}{s+k_p}$.  The block diagram for a naive implementation of the complementary filter is shown below.\n",
    "\n",
    "<img src=\"files/complementary_filter_naive.png\" width=\"400\">\n",
    "\n",
    "A better implementation method is to use the feedback structure shown below.\n",
    "\n",
    "<img src=\"files/feedback_loop.png\" width=\"400\">\n",
    "\n",
    "Using standard block diagram manipulation we get that\n",
    "$$\n",
    "y(s) = \\left(\\frac{1}{1+PC}\\right) d_o(s) + \\left(\\frac{P}{1+PC}\\right) d_i(s) + \\left(\\frac{PC}{1+PC}\\right) r(s)\n",
    "$$\n",
    "where $y$ is the output, $r$ is the refence input, $d_o$ is an output disturbance, and $d_i$ is an input disturbance.  The transfer function \n",
    "$$\n",
    "S=\\frac{1}{1+PC}\n",
    "$$ \n",
    "is called the sensitivity function, and the tranfer function \n",
    "$$\n",
    "T=\\frac{PC}{1+PC}\n",
    "$$ \n",
    "is called the complementary sensitivity function.  Note that \n",
    "$$\n",
    "S(s) + T(s) = 1.\n",
    "$$\n",
    "If $P(s) C(s)$ is a standard loopshape that is large ($>> 1$) at low frequency and small ($<< 1$) at high frequency, then the sensitivity function $S(s)$ is a high pass filter and the complementary sensitivity function $T(s)$ is a low pass filter.  Therefore, the feedback structure can be used to implement a complementary filter for the roll angle as shown in the figure below.\n",
    "\n",
    "<img src=\"files/complementary_filter_roll_1.png\" width=\"400\">\n",
    "\n",
    "In order to get a first order filter where \n",
    "$$ \n",
    "S(s) = \\frac{1}{1+PC} = \\frac{s}{s+k_p} = \\frac{1}{1+\\frac{k_p}{s}}\n",
    "$$\n",
    "we set $P(s) = 1/s$ and $C(s)=k_p$ as shown below.  \n",
    "\n",
    "<img src=\"files/complementary_filter_roll_2.png\" width=\"400\">\n",
    "\n",
    "The figure above also indicates that $\\hat{\\phi}_{gyro}$ is the integral of the measurement $y_{gyro}$.  Clearly, the output disturbance of $\\hat{\\phi}_{gyro}$ is equivalent to an input disturbance of $y_{gyro}$ as shown below.\n",
    "\n",
    "<img src=\"files/complementary_filter_roll_3.png\" width=\"400\">\n",
    "\n",
    "As mentioned above, the gyro measurement contains the true signal $p$ plus a nearly constant bias $b$.  We can use the final value theorem to determine the response of the feedback system shown above to a constant $b$ as the input disturbance.  The relevant transfer function is\n",
    "$$\n",
    "\\hat{\\phi}(s) = \\frac{1}{1+PC} b(s).\n",
    "$$\n",
    "The final value theorem gives\n",
    "\\begin{align*}\n",
    "\\hat{\\phi}_{ss} &= \\lim_{t\\to\\infty} \\hat{\\phi}(t) \\\\\n",
    "                &= \\lim_{s\\to 0} s\\left(\\frac{P}{1+PC}\\right)\\frac{b}{s} \\\\\n",
    "                &= \\lim_{s\\to 0} \\frac{bP}{1+PC}.\n",
    "\\end{align*}\n",
    "When $P=\\frac{1}{s}$ and $C=k_p$ we get\n",
    "\\begin{align*}\n",
    "\\hat{\\phi}_{ss} &= \\lim_{s\\to 0} \\frac{\\frac{b}{s}}{1+\\frac{k_p}{s}} \\\\\n",
    "                &= \\lim_{s\\to 0} \\frac{b}{s+k_p} \\\\\n",
    "                &= \\frac{b}{k_p}.\n",
    "\\end{align*}\n",
    "Therefore, the effect of the bias can be reduced by increasing $k_p$ but cannot be eliminated.  However, using a PI structure for $C(s)$ we can completely remove the effect of the bias.  The resulting architecture is shown in the block diagram below.\n",
    "\n",
    "<img src=\"files/complementary_filter_roll.png\" width=\"400\">\n",
    "\n",
    "When $C(s) = k_p + k_i/s$ the steady state response to a constant bias is \n",
    "\\begin{align*}\n",
    "\\hat{\\phi}_{ss} &= \\lim_{s\\to 0} \\frac{\\frac{b}{s}}{1+\\frac{k_p+k_i/s}{s}} \\\\\n",
    "                &= \\lim_{s\\to 0} \\frac{bs}{s^s+k_p s + k_i} \\\\\n",
    "                &= 0.\n",
    "\\end{align*}\n",
    "From the block diagram, we see that the differential equations that describe the complementary filter are given by\n",
    "\\begin{align}\n",
    "\\dot{\\hat{\\phi}} &= (p_{gyro}-\\hat{b}_\\phi) + k_p e_\\phi \\notag \\\\\n",
    "\\dot{\\hat{b}}_\\phi &= -k_ie_\\phi \\label{eq:complementary_filter_phi} \\\\\n",
    "e_\\phi &= \\hat{\\phi}_{accel}-\\hat{\\phi}. \\notag\n",
    "\\end{align}\n",
    "Note that we have introduced negative signs in the implementation of the integrator to emphase the fact that role of the integrator is to estimate the bias and to subtract the bias from the gyro measurement.  \n",
    "\n",
    "We also note that a Lyapunov argument can be used to prove the stability of the complementary filter given in Equation~\\eqref{eq:complementary_filter_phi} in the absence of noise.  Indeed, consider the Lyapunov function candidate\n",
    "$$\n",
    "V = \\frac{1}{2}(\\phi-\\hat{\\phi})^2 + \\frac{1}{2k_i}(b_\\phi-\\hat{b}_\\phi)^2.\n",
    "$$\n",
    "Differentiating and using the dynamics and filter dynamics gives\n",
    "\\begin{align*}\n",
    "\\dot{V} &= (\\phi - \\hat{\\phi})(\\dot{\\phi}-\\dot{\\hat{\\phi}}) + \\frac{1}{k_i}(b_\\phi-\\hat{b}_\\phi)(\\dot{b}_\\phi - \\dot{\\hat{b}}_\\phi) \\\\\n",
    "&= (\\phi - \\hat{\\phi})(p - (p_{gyro}-\\hat{b}) - k_p (\\hat{\\phi}_{accel}-\\hat{\\phi})) - \\frac{1}{k_i}(b_\\phi-\\hat{b}_\\phi)(-k_i)(\\hat{\\phi}_{accel}-\\hat{\\phi}) \\\\\n",
    "&= (\\phi - \\hat{\\phi})((p_{gyro}-b) - (p_{gyro}-\\hat{b}) - k_p (\\phi + m -\\hat{\\phi})) + (b_\\phi-\\hat{b}_\\phi)(\\phi + m -\\hat{\\phi}) \\\\\n",
    "&\\leq -k_p (\\phi-\\hat{\\phi})^2 + \\gamma |m|\\left\\|\\begin{pmatrix}\\phi-\\hat{\\phi} \\\\ b-\\hat{b}\\end{pmatrix}\\right\\|.\n",
    "\\end{align*}\n",
    "If $m=0$ then LaSalle's in variance principle can be used to show asymptotic convergence of the complementary filter.  For non-zero $m$, the filter error is bounded by a function of the size of $m$.\n",
    "\n",
    "We note also that for Euler angle representation for pitch and yaw, a similar derivation results in the complementary filters\n",
    "\\begin{align}\n",
    "\\dot{\\hat{\\theta}} &= (q_{gyro}-\\hat{b}_\\theta) + k_p e_\\theta \\notag \\\\\n",
    "\\dot{\\hat{b}}_\\theta &= -k_i e_\\theta \\label{eq:complementary_filter_theta} \\\\\n",
    "e_\\theta &= \\hat{\\theta}_{accel}-\\hat{\\theta}, \\notag\n",
    "\\end{align}\n",
    "\\begin{align}\n",
    "\\dot{\\hat{\\psi}} &= (r_{gyro}-\\hat{b}_\\psi) + k_p e_\\psi \\notag \\\\\n",
    "\\dot{\\hat{b}}_\\psi &= -k_i e_\\psi \\label{eq:complementary_filter_psi} \\\\\n",
    "e_\\psi &= \\hat{\\psi}_{mag}-\\hat{\\psi}, \\notag\n",
    "\\end{align}\n",
    "where $\\hat{\\psi}_{mag}$ is the measurement of the yaw angle from a magnetometer."
   ]
  },
  {
   "cell_type": "markdown",
   "metadata": {},
   "source": [
    "## Nonlinear Complementary Filter for Attitude Kinematics\n",
    "\n",
    "Consider the dynamics\n",
    "\\begin{align*}\n",
    "\\dot{R} &= R\\omega^\\wedge \\\\\n",
    "\\dot{\\omega} &= -\\frac{b}{I}\\omega + \\frac{1}{I}\\tau.\n",
    "\\end{align*}\n",
    "We will assume that the angular velocity $\\omega$ is measured with some unknown bias $b$.  Therefore, the measurement is \n",
    "$$\n",
    "\\omega_m = \\omega + b.\n",
    "$$\n",
    "\n",
    "For the complementary filter, we assume that we measure $\\omega_m$ and also the attitude $R_m$.  Let $\\bar{R}$, $\\bar{\\omega}$, and $\\bar{b}$ be the estimate of $R$, $\\omega$, and $b$.  \n",
    "\n",
    "The passive complementary filter given in (Mahony, et. al, 2008) is given by\n",
    "\\begin{align*}\n",
    "\\dot{\\bar{R}} &= \\bar{R}\\left(\\omega_m-\\bar{b}+k_pe_\\Omega\\right)^\\wedge \\\\\n",
    "\\dot{\\bar{b}} &= -k_I \\Omega \\\\\n",
    "e_\\Omega &= \\mathbb{P}_a(\\bar{R}^\\top R_y)^\\vee.\n",
    "\\end{align*}\n",
    "\n",
    "Proof of convergence is as follows.  \n",
    "Define the Lyapunov function candidate as\n",
    "\\begin{align*}\n",
    "V &= \\frac{1}{4}\\|I-\\bar{R}^\\top R\\| + \\frac{1}{2k_I}(b-\\bar{b})^\\top(b-\\bar{b}) \\\\\n",
    "&= \\frac{1}{2}tr\\left[I-\\bar{R}^\\top R\\right] + \\frac{1}{2k_I}(b-\\bar{b})^\\top(b-\\bar{b}).\n",
    "\\end{align*}\n",
    "Taking the derivative with respect to time gives\n",
    "\\begin{align*}\n",
    "\\dot{V} &= -\\frac{1}{2}tr\\left[\\dot{\\bar{R}}^\\top R + \\bar{R}^\\top \\dot{R}\\right] - \\frac{1}{k_I}(b-\\bar{b})^\\top \\dot{\\bar{b}}\\\\\n",
    "&= -\\frac{1}{2}tr\\left[\\left( \\bar{R}\\left(\\omega_m-\\bar{b}+k_pe_\\Omega\\right)^\\wedge \\right)^\\top R + \\bar{R}^\\top R\\omega^\\wedge\\right] + (b-\\bar{b})^\\top e_\\Omega \\\\\n",
    "&= -\\frac{1}{2}tr\\left[\\left( \\left(\\omega_m-\\bar{b}+k_pe_\\Omega\\right)^\\wedge \\right)^\\top \\bar{R}^\\top R + \\bar{R}^\\top R\\omega^\\wedge\\right] + (b-\\bar{b})^\\top e_\\Omega \\\\\n",
    "&= -\\frac{1}{2}tr\\left[-\\left(\\omega_m-\\bar{b}+k_pe_\\Omega\\right)^\\wedge \\bar{R}^\\top R + \\bar{R}^\\top R\\omega^\\wedge\\right] + (b-\\bar{b})^\\top e_\\Omega \\\\\n",
    "&= -\\frac{1}{2}tr\\left[\\bar{R}^\\top R\\omega^\\wedge\n",
    "- \\bar{R}^\\top R\\omega_m^\\wedge\n",
    "+ \\bar{R}^\\top R\\bar{b}^\\wedge\n",
    "- k_p \\bar{R}^\\top Re_\\Omega^\\wedge\n",
    "\\right] + (b-\\bar{b})^\\top e_\\Omega \\\\\n",
    "&= -\\frac{1}{2}tr\\left[\\bar{R}^\\top R(\\omega_m-b)^\\wedge\n",
    "- \\bar{R}^\\top R\\omega_m^\\wedge\n",
    "+ \\bar{R}^\\top R\\bar{b}^\\wedge\n",
    "- k_p \\bar{R}^\\top Re_\\Omega^\\wedge\n",
    "\\right] + (b-\\bar{b})^\\top e_\\Omega \\\\\n",
    "&= \\frac{1}{2}tr\\left[\\bar{R}^\\top R(b-\\bar{b})^\\wedge\n",
    "+ k_p \\bar{R}^\\top Re_\\Omega^\\wedge\n",
    "\\right] + (b-\\bar{b})^\\top e_\\Omega \\\\\n",
    "&= \\frac{1}{2}tr\\left[(\\mathbb{P}_s(\\bar{R}^\\top R)+\\mathbb{P}_a(\\bar{R}^\\top R))(b-\\bar{b})^\\wedge\n",
    "+ k_p (\\mathbb{P}_s(\\bar{R}^\\top R)+\\mathbb{P}_a(\\bar{R}^\\top R))e_\\Omega^\\wedge\n",
    "\\right] + (b-\\bar{b})^\\top e_\\Omega \\\\\n",
    "&= \\frac{1}{2}tr\\left[\\mathbb{P}_a(\\bar{R}^\\top R)(b-\\bar{b})^\\wedge\n",
    "+ k_p \\mathbb{P}_a(\\bar{R}^\\top R)e_\\Omega^\\wedge\n",
    "\\right] + (b-\\bar{b})^\\top e_\\Omega \\\\\n",
    "&= \\frac{1}{2}tr\\left[e_\\Omega^\\wedge(b-\\bar{b})^\\wedge\n",
    "+ k_p e_\\Omega^\\wedge e_\\Omega^\\wedge\n",
    "\\right] + (b-\\bar{b})^\\top e_\\Omega \\\\\n",
    "&= \\frac{1}{2}tr\\left[(b-\\bar{b})^\\wedge e_\\Omega^\\wedge\n",
    "+ k_p e_\\Omega^\\wedge e_\\Omega^\\wedge\n",
    "\\right] + (b-\\bar{b})^\\top e_\\Omega \\\\\n",
    "&= -(b-\\bar{b})^\\top e_\\Omega\n",
    "- k_p e_\\Omega^\\top e_\\Omega + (b-\\bar{b})^\\top e_\\Omega \\\\\n",
    "&= -k_p e_\\Omega^\\top e_\\Omega\n",
    "\\end{align*}\n",
    "where we have assumed that $R_y=R$.  Since $e_\\Omega=0$ when $\\bar{R}=R$, $\\dot{V}$ is negative semi-definite.  Barbalat's lemma can be used to show that the system converges everywhere except for a set of measure zero where $\\bar{R}^\\top R = I$."
   ]
  }
 ],
 "metadata": {
  "kernelspec": {
   "display_name": "Python 3",
   "language": "python",
   "name": "python3"
  },
  "language_info": {
   "codemirror_mode": {
    "name": "ipython",
    "version": 3
   },
   "file_extension": ".py",
   "mimetype": "text/x-python",
   "name": "python",
   "nbconvert_exporter": "python",
   "pygments_lexer": "ipython3",
   "version": "3.5.2"
  },
  "nbdime-conflicts": {
   "local_diff": [
    {
     "diff": [
      {
       "diff": [
        {
         "key": 0,
         "op": "addrange",
         "valuelist": [
          "3.6.3"
         ]
        },
        {
         "key": 0,
         "length": 1,
         "op": "removerange"
        }
       ],
       "key": "version",
       "op": "patch"
      }
     ],
     "key": "language_info",
     "op": "patch"
    }
   ],
   "remote_diff": [
    {
     "diff": [
      {
       "diff": [
        {
         "key": 0,
         "op": "addrange",
         "valuelist": [
          "2.7.12"
         ]
        },
        {
         "key": 0,
         "length": 1,
         "op": "removerange"
        }
       ],
       "key": "version",
       "op": "patch"
      }
     ],
     "key": "language_info",
     "op": "patch"
    }
   ]
  },
  "varInspector": {
   "cols": {
    "lenName": 16,
    "lenType": 16,
    "lenVar": 40
   },
   "kernels_config": {
    "python": {
     "delete_cmd_postfix": "",
     "delete_cmd_prefix": "del ",
     "library": "var_list.py",
     "varRefreshCmd": "print(var_dic_list())"
    },
    "r": {
     "delete_cmd_postfix": ") ",
     "delete_cmd_prefix": "rm(",
     "library": "var_list.r",
     "varRefreshCmd": "cat(var_dic_list()) "
    }
   },
   "types_to_exclude": [
    "module",
    "function",
    "builtin_function_or_method",
    "instance",
    "_Feature"
   ],
   "window_display": false
  }
 },
 "nbformat": 4,
 "nbformat_minor": 2
}
