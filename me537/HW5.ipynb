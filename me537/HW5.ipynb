{
 "cells": [
  {
   "cell_type": "markdown",
   "metadata": {},
   "source": [
    "# Homework 5 - Seth Nielsen - ME 537\n",
    "\n",
    "### Book Problems"
   ]
  },
  {
   "cell_type": "markdown",
   "metadata": {},
   "source": [
    "**2-6)  Compute the matrix exponential using the power series. How many terms are required to match the result shown to standard MATLAB precision?**\n",
    "\n",
    "Using trial and error, I found the answer to be 37.\n"
   ]
  },
  {
   "cell_type": "code",
   "execution_count": null,
   "metadata": {},
   "outputs": [],
   "source": [
    "A = [1 2 3; 4 5 6; 7 8 9]*0.1;\n",
    "\n",
    "m = eye(3);\n",
    "for i=1:37\n",
    "   m = m + (A^i)/factorial(i);\n",
    "end\n",
    "\n",
    "expm(A)\n",
    "m\n",
    "\n",
    "\n",
    "% Results:\n",
    "\n",
    "ans =\n",
    "\n",
    "    1.3732    0.5315    0.6898\n",
    "    1.0093    2.2481    1.4870\n",
    "    1.6454    1.9648    3.2843\n",
    "\n",
    "\n",
    "m =\n",
    "\n",
    "    1.3732    0.5315    0.6898\n",
    "    1.0093    2.2481    1.4870\n",
    "    1.6454    1.9648    3.2843"
   ]
  },
  {
   "cell_type": "markdown",
   "metadata": {},
   "source": [
    "**2-8) For the 3-dimensional rotation about the vector [2, 3, 4] by 0.5 rad compute an SO(3) rotation matrix using: the matrix exponential functions expm and trexp, Rodrigues’ rotation formula (code this yourself), and the Toolbox function angvec2tr. Compute the equivalent unit quaternion.**\n"
   ]
  },
  {
   "cell_type": "code",
   "execution_count": null,
   "metadata": {},
   "outputs": [],
   "source": [
    "v = [2 3 4];\n",
    "th = 0.5;\n",
    "\n",
    "S = v / norm(v);\n",
    "s = [0    -S(3) S(2); \n",
    "     S(3)    0 -S(1); \n",
    "    -S(2)  S(1)   0];\n",
    "\n",
    "R  = expm( s * th)                         % matrix exponential\n",
    "R2 = trexp(S, th)                          % trexp function\n",
    "R3 = eye(3) + sin(th)*s + (1-cos(th))*s^2  % Rodrigues formula\n",
    "T  = angvec2tr(th, S)                      % angvec2tr\n",
    "q  = [cos(th/2), S*sin(th/2)]              % unit quaternion [s, v1, v2, v3]\n",
    "\n",
    "\n",
    "% Results:\n",
    "\n",
    "\n",
    "R =\n",
    "\n",
    "    0.8945   -0.3308    0.3009\n",
    "    0.3814    0.9156   -0.1274\n",
    "   -0.2333    0.2287    0.9451\n",
    "\n",
    "\n",
    "R2 =\n",
    "\n",
    "    0.8945   -0.3308    0.3009\n",
    "    0.3814    0.9156   -0.1274\n",
    "   -0.2333    0.2287    0.9451\n",
    "\n",
    "\n",
    "R3 =\n",
    "\n",
    "    0.8945   -0.3308    0.3009\n",
    "    0.3814    0.9156   -0.1274\n",
    "   -0.2333    0.2287    0.9451\n",
    "\n",
    "\n",
    "T =\n",
    "\n",
    "    0.8945   -0.3308    0.3009         0\n",
    "    0.3814    0.9156   -0.1274         0\n",
    "   -0.2333    0.2287    0.9451         0\n",
    "         0         0         0    1.0000\n",
    "\n",
    "\n",
    "q =\n",
    "\n",
    "    0.9689    0.0919    0.1378    0.1838\n"
   ]
  },
  {
   "cell_type": "markdown",
   "metadata": {},
   "source": [
    "**2-11) Create two different rotation matrices, in 2D or 3D, representing frames $\\{A\\}$ and $\\{B\\}$. Determine the rotation matrix $^A{R}_B$ and $^B{R}_A$. Express these as a rotation axis and angle and compare the results. Express these as a twist.**\n",
    "\n",
    "\n"
   ]
  },
  {
   "cell_type": "code",
   "execution_count": null,
   "metadata": {},
   "outputs": [],
   "source": [
    "R_AB = rotx(0.5) * roty(0.2) * rotz(0.6)\n",
    "R_BA = R_AB'\n",
    "\n",
    "[th1, v1] = tr2angvec(R_AB)\n",
    "[th2, v2] = tr2angvec(R_BA)\n",
    "\n",
    "tw1 = Twist('R', v1, [0 0 0])\n",
    "tw2 = Twist('R', v2, [0 0 0])\n",
    "\n",
    "\n",
    "R_AB =\n",
    "\n",
    "    0.8089   -0.5534    0.1987\n",
    "    0.5741    0.6705   -0.4699\n",
    "    0.1268    0.4941    0.8601\n",
    "\n",
    "\n",
    "R_BA =\n",
    "\n",
    "    0.8089    0.5741    0.1268\n",
    "   -0.5534    0.6705    0.4941\n",
    "    0.1987   -0.4699    0.8601\n",
    "\n",
    "\n",
    "th1 =\n",
    "\n",
    "    0.8369\n",
    "\n",
    "\n",
    "v1 =\n",
    "\n",
    "    0.6491    0.0484    0.7592\n",
    "\n",
    "\n",
    "th2 =\n",
    "\n",
    "    0.8369\n",
    "\n",
    "\n",
    "v2 =\n",
    "\n",
    "   -0.6491   -0.0484   -0.7592\n",
    "\n",
    "    \n",
    "tw1 = \n",
    "( -0  -0  -0; 0.64908  0.048386  0.75918 )\n",
    " \n",
    "tw2 = \n",
    "( -0  -0  -0; -0.64908  -0.048386  -0.75918 )"
   ]
  },
  {
   "cell_type": "markdown",
   "metadata": {},
   "source": [
    "**2-19) From page 53 show that ${e^x}{e^y} ≠ e^{x+y}$ for the case of matrices. Hint – expand the first\n",
    "few terms of the exponential series.**"
   ]
  },
  {
   "cell_type": "markdown",
   "metadata": {},
   "source": [
    "For the two matrices $A$ and $B$, the product ${e^A}{e^B}$ becomes (evaluated to the third term of the exponential series):\n",
    "\n",
    "\\begin{align}\n",
    "{e^A}{e^B} &= (I+A+\\frac{A^2}{2!})(I+B+\\frac{B^2}{2!})\\\\\n",
    "&= I+A+B+AB+ \\frac{A^2+B^2+AB^2+A^2B}{2}\n",
    "\\end{align}\n",
    "\n",
    "Evaluating $e^{A+B}$ gives:\n",
    "\n",
    "\\begin{align}\n",
    "e^{A+B} &= I+A+B+\\frac{(A+B)^2}{2!}\\\\\n",
    "&= I+A+B+AB+\\frac{A^2+B^2}{2}\\\\\n",
    "&\\neq {e^A}{e^B}\n",
    "\\end{align}"
   ]
  },
  {
   "cell_type": "markdown",
   "metadata": {},
   "source": [
    "**3-7) For a $\\texttt{tpoly}$ trajectory from 0 to 1 in 50 steps explore the effects of different initial and final velocities, both positive and negative. Under what circumstances does the quintic polynomial overshoot and why?**\n",
    "\n",
    "The quintic polynomial overshoots when there is an initial velocity greater than ~0.1 and a final velocity less than ~0.7. This is because the trajectory begins with a positive velocity and the final velocity is not positive enough to send the velocity significantly in the negative direction. "
   ]
  },
  {
   "cell_type": "markdown",
   "metadata": {},
   "source": [
    "**3-8) For a $\\texttt{lspb}$ trajectory from 0 to 1 in 50 steps explore the effects of specifying the\n",
    "velocity for the constant velocity segment. What are the minimum and maximum bounds possible?**\n",
    "\n",
    "I found the bounds to be a min of 0.021 and a max of 0.040 for the constant velocity segment."
   ]
  },
  {
   "cell_type": "markdown",
   "metadata": {},
   "source": [
    "**3-9) For a trajectory from 0 to 1 and given a maximum possible velocity of 0.025 compare how many time steps are required for each of the $\\texttt{tpoly}$ and $\\texttt{lspb}$ trajectories?**\n",
    "\n",
    "Using an initial and final velocity of zero,\n",
    "\n",
    "* $\\texttt{tpoly}$: 76 steps\n",
    "* $\\texttt{lspb}$: 61 steps"
   ]
  },
  {
   "cell_type": "markdown",
   "metadata": {},
   "source": [
    "**3-10) Use $\\texttt{animate}$ to compare rotational interpolation using quaternions, Euler angles\n",
    "and roll-pitch-yaw angles. Hint: use the quaternion $\\texttt{interp}$ method and $\\texttt{mtraj}$.**\n",
    "\n"
   ]
  },
  {
   "cell_type": "markdown",
   "metadata": {},
   "source": [
    "**3-13) For the $\\texttt{mstraj}$ example (page 75)**\n",
    "* **a) Repeat with different initial and final velocity.**\n",
    "* **b) Investigate the effect of increasing the acceleration time. Plot total time as a function of acceleration time.**\n"
   ]
  },
  {
   "cell_type": "markdown",
   "metadata": {},
   "source": [
    "**7-4) Compare the solutions generated by $\\texttt{ikine6s}$ and $\\texttt{ikine}$ for the Puma 560 robot at different poses. Is there any difference in accuracy? How much slower is $\\texttt{ikine}$?**"
   ]
  },
  {
   "cell_type": "markdown",
   "metadata": {},
   "source": [
    "### Other Problems"
   ]
  },
  {
   "cell_type": "markdown",
   "metadata": {},
   "source": [
    "2) Verify the following equation by direct calculation:\n",
    "\n",
    "\\begin{equation}\n",
    "[\\omega]_{\\times} p = \\omega\\times{p}\n",
    "\\end{equation}\n",
    "\n"
   ]
  },
  {
   "cell_type": "markdown",
   "metadata": {},
   "source": [
    "3) "
   ]
  }
 ],
 "metadata": {
  "kernelspec": {
   "display_name": "Python 3",
   "language": "python",
   "name": "python3"
  },
  "language_info": {
   "codemirror_mode": {
    "name": "ipython",
    "version": 3
   },
   "file_extension": ".py",
   "mimetype": "text/x-python",
   "name": "python",
   "nbconvert_exporter": "python",
   "pygments_lexer": "ipython3",
   "version": "3.5.2"
  }
 },
 "nbformat": 4,
 "nbformat_minor": 2
}
