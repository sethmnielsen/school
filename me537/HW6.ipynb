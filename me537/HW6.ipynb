{
 "cells": [
  {
   "cell_type": "markdown",
   "metadata": {},
   "source": [
    "# Homework 6 - Seth Nielsen - ME 537"
   ]
  },
  {
   "cell_type": "markdown",
   "metadata": {},
   "source": [
    "**1) Spong, Robot Modeling and Control Problems** \n",
    "\n",
    "**(a) Find the moments of inertia and cross products of inertia of a uniform rectangular solid with sides a, b, and c with respect to a coordinate frame with the origin at one corner and the axes along the edges of the solid.**\n"
   ]
  },
  {
   "cell_type": "code",
   "execution_count": null,
   "metadata": {},
   "outputs": [],
   "source": [
    "syms m a b c real\n",
    "r = [a/2 b/2 c/2];\n",
    "\n",
    "Ixx = (m/12) * (b^2 + c^2);\n",
    "Iyy = (m/12) * (a^2 + c^2);\n",
    "Izz = (m/12) * (a^2 + b^2);\n",
    "\n",
    "Icom = [Ixx 0 0; 0 Iyy 0; 0 0 Izz];\n",
    "\n",
    "I0 = Icom - m*skew(r)^2;\n",
    "\n",
    "simplify(I0)\n",
    "\n",
    "-------------\n",
    "\n",
    "ans =\n",
    " \n",
    "[ (m*(b^2 + c^2))/3,        -(a*b*m)/4,        -(a*c*m)/4]\n",
    "[        -(a*b*m)/4, (m*(a^2 + c^2))/3,        -(b*c*m)/4]\n",
    "[        -(a*c*m)/4,        -(b*c*m)/4, (m*(a^2 + b^2))/3]"
   ]
  },
  {
   "cell_type": "markdown",
   "metadata": {},
   "source": [
    "The moments of inertia are along the diagonal of $I_0$, and the products of inertia are the values on the off-diagonal."
   ]
  },
  {
   "cell_type": "markdown",
   "metadata": {},
   "source": [
    "**(b)  Show that the inertia matrix $M(q)$ for an n-link robot is always positive definite. (Look at the definition of a positive definite matrix on wikipedia if needed. The form of Kinetic energy for a n-link robot may help you here.)**"
   ]
  },
  {
   "cell_type": "markdown",
   "metadata": {},
   "source": [
    "Kinetic energy $K \\geq 0$ by definition. Since $K = \\frac{1}{2} \\dot{q}^\\textsf{T} M(q) \\dot{q}$, it is clear that the quantity $ \\dot{q}^\\textsf{T} M(q) \\dot{q}$ must also be positive (or zero in the case of $\\dot{q} = 0$). A matrix $M$ is defined to be positive definite if the scalar $z^\\textsf{T} Mz$ is strictly positive for every non-zero column vector $z$ of real numbers. This means the inertia matrix $M(q)$ is always positive definite."
   ]
  },
  {
   "cell_type": "markdown",
   "metadata": {},
   "source": [
    "**(c) Consider a 3-link Cartesian manipulator (see picture with prismatic joint in the z, then y, then x direction of the global frame). Assume the links are rectangular instead of cylindrical and do the following:**\n",
    "\n",
    "**i. Compute the inertia tensor $I_i$ for each link $i = 1, 2, 3$ assuming that the links are uniform rectangular solids of length 1, width 1/4, height 1/4, and mass of 1.**\n"
   ]
  },
  {
   "cell_type": "code",
   "execution_count": null,
   "metadata": {},
   "outputs": [],
   "source": [
    "l = 1;\n",
    "w = 0.25;\n",
    "m = 1;\n",
    "\n",
    "I1 = [(m/12) * (l^2 + w^2) 0 0; ...\n",
    "      0 (m/12) * (l^2 + w^2) 0; ...\n",
    "      0 0 (m/12) * (2*w^2)]\n",
    "\n",
    "I2 = [(m/12) * (l^2 + w^2) 0 0; ...\n",
    "      0 (m/12) * (2*w^2) 0;     ...\n",
    "      0 0 (m/12) * (l^2 + w^2)]\n",
    "\n",
    "I3 = [(m/12) * (2*w^2) 0 0;     ...\n",
    "      0 (m/12) * (l^2 + w^2) 0; ...\n",
    "      0 0 (m/12) * (l^2 + w^2)]\n",
    "\n",
    "-----------\n",
    "\n",
    "I1 =\n",
    "\n",
    "    0.0885         0         0\n",
    "         0    0.0885         0\n",
    "         0         0    0.0104\n",
    "\n",
    "\n",
    "I2 =\n",
    "\n",
    "    0.0885         0         0\n",
    "         0    0.0885         0\n",
    "         0         0    0.0104\n",
    "\n",
    "\n",
    "I3 =\n",
    "\n",
    "    0.0885         0         0\n",
    "         0    0.0885         0\n",
    "         0         0    0.0104"
   ]
  },
  {
   "cell_type": "markdown",
   "metadata": {},
   "source": [
    "**ii. Compute the 3x3 inertia matrix $M(q)$ for this manipulator.**"
   ]
  },
  {
   "cell_type": "code",
   "execution_count": null,
   "metadata": {},
   "outputs": [],
   "source": [
    "Jv1 = [0 0 0;\n",
    "       0 0 0;\n",
    "       1 0 0];\n",
    "Jv2 = [0 0 0;\n",
    "       0 1 0;\n",
    "       1 0 0];\n",
    "Jv3 = [0 0 1;\n",
    "       0 1 0;\n",
    "       1 0 0];\n",
    "\n",
    "M = m*(Jv1'*Jv1 + Jv2'*Jv2 + Jv3'*Jv3)\n",
    "       \n",
    "-----------\n",
    "\n",
    "       \n",
    "M =\n",
    "\n",
    "     3     0     0\n",
    "     0     2     0\n",
    "     0     0     1"
   ]
  },
  {
   "cell_type": "markdown",
   "metadata": {},
   "source": [
    "**iii.  Show that the Christoffel symbols $c_{ijk}$ are all zero for this robot. Interpret the meaning of this for the dynamic equations of motion.**"
   ]
  },
  {
   "cell_type": "markdown",
   "metadata": {},
   "source": [
    "The Christoffel symbols are all zero because none of the terms of the mass matrix $M(q)$ are a function of $q$, since each joint is prismatic and thus the arm does not rotate."
   ]
  },
  {
   "cell_type": "markdown",
   "metadata": {},
   "source": [
    "**iv.  Derive the equations of motion in matrix form.**"
   ]
  },
  {
   "cell_type": "markdown",
   "metadata": {},
   "source": [
    "To find $G(q)$, the potential energy can be calculated as:"
   ]
  },
  {
   "cell_type": "code",
   "execution_count": null,
   "metadata": {},
   "outputs": [],
   "source": [
    "syms q1 q2 real\n",
    "\n",
    "rc1 = [0; 0; l/2];\n",
    "rc2 = [0; l/2; l+q1];\n",
    "rc3 = [l/2; l+q2; l+q1];\n",
    "g = [0 0 9.81];\n",
    "\n",
    "P = m*g*(rc1 + rc2 + rc3)\n",
    "\n",
    "-----------\n",
    "\n",
    "P =\n",
    " \n",
    "(2943*q1)/100 + 981/40"
   ]
  },
  {
   "cell_type": "markdown",
   "metadata": {},
   "source": [
    "Thus, $g_{2} = g_{3} = 0$, and\n",
    "\n",
    "\\begin{align}\n",
    "g_1 &= \\frac{\\partial P}{\\partial q1} = 29.43\n",
    "\\end{align}"
   ]
  },
  {
   "cell_type": "markdown",
   "metadata": {},
   "source": [
    "Setting $C(q,\\dot{q})\\dot{q} = 0$ and combining terms:\n",
    "\n",
    "\\begin{align}\n",
    "f &= M(q)\\ddot{q} + G(q) \\\\ \\\\\n",
    "f &= \\begin{bmatrix}\n",
    "3 & 0 & 0 \\\\\n",
    "0 & 2 & 0 \\\\\n",
    "0 & 0 & 1 \\end{bmatrix} + \\begin{bmatrix}29.43\\\\0\\\\0\\end{bmatrix}\\\\ \\\\\n",
    "f &= \\begin{bmatrix}\n",
    "32.43 & 29.43 & 29.43 \\\\\n",
    "29.43 & 31.43 & 29.43 \\\\\n",
    "29.43 & 29.43 & 30.43 \\end{bmatrix}\n",
    "\\end{align}"
   ]
  },
  {
   "cell_type": "markdown",
   "metadata": {},
   "source": [
    "**(d) Use symbolic software (like the “syms” command in MATLAB) to derive the symbolic Euler-Lagrange equations of motion for a planar three-link RRR robot with each link length being 0.4m. The center of mass for each link is at a distance of 0.2m from the end. Please assume that the robot is contained in the x-y plane with x being the horizontal direction and gravity being lined up with the y axis. It is recommended that you use the robotics toolbox, but you may not use the dynamic functions in the toolbox. Please leave the equations in symbolic form with the following variables:\n",
    "$m_1, m_2, m_3, I_{xx}, I_{yy}, I_{zz}, q_1, q_2, q_3, q̇_1 , q̇_2, q̇_3, g$**\n"
   ]
  },
  {
   "cell_type": "code",
   "execution_count": null,
   "metadata": {},
   "outputs": [],
   "source": [
    "syms m1 m2 m3 Ixx Iyy Izz q1 q2 q3 qd1 qd2 qd3 qdd1 qdd2 qdd3 g real\n",
    "\n",
    "m = [m1; m2; m3];\n",
    "q = [q1; q2; q3];\n",
    "qd = [qd1; qd2; qd3];\n",
    "qdd = [qdd1; qdd2; qdd3];\n",
    "gv = [0;  g;  0];\n",
    "l = 0.4;\n",
    "c = 0.2;\n",
    "q0 = [0 0 0];\n",
    "\n",
    "robot3 = SerialLink([0 0 l 0; 0 0 l 0; 0 0 l 0],'gravity',[0 -9.81 0]);\n",
    "for i=1:3\n",
    "    robot3.links(i).I = [Ixx Iyy Izz];\n",
    "end\n",
    "\n",
    "z_00 = [0; 0; 1];\n",
    "z_01 = [0; 0; 1];\n",
    "z_02 = [0; 0; 1];\n",
    "\n",
    "O_00 = [0; 0; 0];\n",
    "O_01 = l*[cos(q1); sin(q1); 0];\n",
    "O_02 = l*[cos(q1)+cos(q1+q2); sin(q1)+sin(q1+q2); 0];\n",
    "\n",
    "O_0c1 = c*[cos(q1); sin(q1); 0];\n",
    "O_0c2 = [l*cos(q1)+c*cos(q1+q2); l*sin(q1)+c*sin(q1+q2); 0];\n",
    "O_0c3 = [l*(cos(q1)+cos(q1+q2))+c*cos(q1+q2+q3); l*(sin(q1)+sin(q1+q2))+c*sin(q1+q2+q3); 0];\n",
    "\n",
    "Jv = sym(zeros(3,3,3));\n",
    "Jw = sym(zeros(3,3,3));\n",
    "R = sym(zeros(3,3,3));\n",
    "\n",
    "Jv(:,:,1) = [cross(z_00, O_0c1 - O_00) [0; 0; 0] [0; 0; 0]];\n",
    "Jw(:,:,1) = [z_00                      [0; 0; 0] [0; 0; 0]];\n",
    "\n",
    "Jv(:,:,2) = [cross(z_00, O_0c2 - O_00) cross(z_01, O_0c2 - O_01) [0; 0; 0]];\n",
    "Jw(:,:,2) = [z_00                      z_01                      [0; 0; 0]];\n",
    "\n",
    "Jv(:,:,3) = [cross(z_00, O_0c3 - O_00) cross(z_01, O_0c3 - O_01) cross(z_02, O_0c3 - O_02)];\n",
    "Jw(:,:,3) = [z_00                      z_01                      z_02];\n",
    "\n",
    "R(:,:,1) = rotz(q1);\n",
    "R(:,:,2) = rotz(q1)*rotz(q2);\n",
    "R(:,:,3) = rotz(q1)*rotz(q2)*rotz(q3);\n",
    "\n",
    "% Mass matrix\n",
    "M = sym(zeros(3,3));\n",
    "for i=1:3\n",
    "    M = M + m(i)*Jv(:,:,i)'*Jv(:,:,i) + ...\n",
    "        Jw(:,:,i)'*Jw(:,:,i)*R(:,:,i)*robot3.links(i).I*R(:,:,i)'*Jw(:,:,i);\n",
    "end\n",
    "\n",
    "% Coriolis matrix\n",
    "C = sym(zeros(3,3));\n",
    "for k=1:3\n",
    "    for j=1:3\n",
    "        for i=1:3\n",
    "            C(k,j) = C(k,j) + 0.5*(diff(M(k,j),q(i)) + diff(M(k,i),q(j)) - diff(M(i,j),q(k)))*qd(i);\n",
    "        end\n",
    "    end\n",
    "end\n",
    "\n",
    "% Gravity vector\n",
    "P = m(1)*gv'*O_0c1;\n",
    "P = P + m(2)*gv'*O_0c2;\n",
    "P = P + m(3)*gv'*O_0c3;\n",
    "\n",
    "G = [diff(P,q1); diff(P,q2); diff(P,q3)];\n",
    "\n",
    "tau = simplify(M*qdd + C*qd + G)\n",
    "\n",
    "------------\n",
    "\n",
    "tau =\n",
    " \n",
    " Izz*qdd1 + Izz*qdd2 + Izz*qdd3 + (m1*qdd1)/25 + (m2*qdd1)/5 + (m2*qdd2)/25 + (9*m3*qdd1)/25 + (m3*qdd2)/5 + (m3*qdd3)/25 + (g*m1*cos(q1))/5 + (2*g*m2*cos(q1))/5 + (2*g*m3*cos(q1))/5 + (4*m2*qdd1*cos(q2))/25 + (2*m2*qdd2*cos(q2))/25 + (8*m3*qdd1*cos(q2))/25 + (4*m3*qdd1*cos(q3))/25 + (4*m3*qdd2*cos(q2))/25 + (4*m3*qdd2*cos(q3))/25 + (2*m3*qdd3*cos(q3))/25 + (g*m3*cos(q1 + q2 + q3))/5 - (2*m3*qd2^2*sin(q2 + q3))/25 - (2*m3*qd3^2*sin(q2 + q3))/25 - (2*m2*qd2^2*sin(q2))/25 - (4*m3*qd2^2*sin(q2))/25 - (2*m3*qd3^2*sin(q3))/25 + (g*m2*cos(q1 + q2))/5 + (2*g*m3*cos(q1 + q2))/5 + (4*m3*qdd1*cos(q2 + q3))/25 + (2*m3*qdd2*cos(q2 + q3))/25 + (2*m3*qdd3*cos(q2 + q3))/25 - (4*m3*qd1*qd2*sin(q2 + q3))/25 - (4*m3*qd1*qd3*sin(q2 + q3))/25 - (4*m3*qd2*qd3*sin(q2 + q3))/25 - (4*m2*qd1*qd2*sin(q2))/25 - (8*m3*qd1*qd2*sin(q2))/25 - (4*m3*qd1*qd3*sin(q3))/25 - (4*m3*qd2*qd3*sin(q3))/25\n",
    "                                                                                                                                                                                                                                                                                                                                                                                       Izz*qdd1 + Izz*qdd2 + Izz*qdd3 + (m2*qdd1)/25 + (m2*qdd2)/25 + (m3*qdd1)/5 + (m3*qdd2)/5 + (m3*qdd3)/25 + (2*m2*qdd1*cos(q2))/25 + (4*m3*qdd1*cos(q2))/25 + (4*m3*qdd1*cos(q3))/25 + (4*m3*qdd2*cos(q3))/25 + (2*m3*qdd3*cos(q3))/25 + (g*m3*cos(q1 + q2 + q3))/5 + (2*m3*qd1^2*sin(q2 + q3))/25 + (2*m2*qd1^2*sin(q2))/25 + (4*m3*qd1^2*sin(q2))/25 - (2*m3*qd3^2*sin(q3))/25 + (g*m2*cos(q1 + q2))/5 + (2*g*m3*cos(q1 + q2))/5 + (2*m3*qdd1*cos(q2 + q3))/25 - (4*m3*qd1*qd3*sin(q3))/25 - (4*m3*qd2*qd3*sin(q3))/25\n",
    "                                                                                                                                                                                                                                                                                                                                                                                                                                                                                                                                                                                                      Izz*qdd1 + Izz*qdd2 + Izz*qdd3 + (m3*qdd1)/25 + (m3*qdd2)/25 + (m3*qdd3)/25 + (2*m3*qdd1*cos(q3))/25 + (2*m3*qdd2*cos(q3))/25 + (g*m3*cos(q1 + q2 + q3))/5 + (2*m3*qd1^2*sin(q2 + q3))/25 + (2*m3*qd1^2*sin(q3))/25 + (2*m3*qd2^2*sin(q3))/25 + (2*m3*qdd1*cos(q2 + q3))/25 + (4*m3*qd1*qd2*sin(q3))/25\n",
    " "
   ]
  },
  {
   "cell_type": "markdown",
   "metadata": {},
   "source": [
    "$\\tau = $\n",
    "\\begin{align}\n",
    "\\begin{bmatrix}\n",
    " Izz*qdd1 + Izz*qdd2 + Izz*qdd3 + (m1*qdd1)/25 + (m2*qdd1)/5 + (m2*qdd2)/25 + (9*m3*qdd1)/25 + (m3*qdd2)/5 + (m3*qdd3)/25 + (g*m1*cos(q1))/5 + (2*g*m2*cos(q1))/5 + (2*g*m3*cos(q1))/5 + (4*m2*qdd1*cos(q2))/25 + (2*m2*qdd2*cos(q2))/25 + (8*m3*qdd1*cos(q2))/25 + (4*m3*qdd1*cos(q3))/25 + (4*m3*qdd2*cos(q2))/25 + (4*m3*qdd2*cos(q3))/25 + (2*m3*qdd3*cos(q3))/25 + (g*m3*cos(q1 + q2 + q3))/5 - (2*m3*qd2^2*sin(q2 + q3))/25 - (2*m3*qd3^2*sin(q2 + q3))/25 - (2*m2*qd2^2*sin(q2))/25 - (4*m3*qd2^2*sin(q2))/25 - (2*m3*qd3^2*sin(q3))/25 + (g*m2*cos(q1 + q2))/5 + (2*g*m3*cos(q1 + q2))/5 + (4*m3*qdd1*cos(q2 + q3))/25 + (2*m3*qdd2*cos(q2 + q3))/25 + (2*m3*qdd3*cos(q2 + q3))/25 - (4*m3*qd1*qd2*sin(q2 + q3))/25 - (4*m3*qd1*qd3*sin(q2 + q3))/25 - (4*m3*qd2*qd3*sin(q2 + q3))/25 - (4*m2*qd1*qd2*sin(q2))/25 - (8*m3*qd1*qd2*sin(q2))/25 - (4*m3*qd1*qd3*sin(q3))/25 - (4*m3*qd2*qd3*sin(q3))/25 \\\\ \\\\\n",
    "                                                                                                                                                                                                                                                                                                                                                                                       Izz*qdd1 + Izz*qdd2 + Izz*qdd3 + (m2*qdd1)/25 + (m2*qdd2)/25 + (m3*qdd1)/5 + (m3*qdd2)/5 + (m3*qdd3)/25 + (2*m2*qdd1*cos(q2))/25 + (4*m3*qdd1*cos(q2))/25 + (4*m3*qdd1*cos(q3))/25 + (4*m3*qdd2*cos(q3))/25 + (2*m3*qdd3*cos(q3))/25 + (g*m3*cos(q1 + q2 + q3))/5 + (2*m3*qd1^2*sin(q2 + q3))/25 + (2*m2*qd1^2*sin(q2))/25 + (4*m3*qd1^2*sin(q2))/25 - (2*m3*qd3^2*sin(q3))/25 + (g*m2*cos(q1 + q2))/5 + (2*g*m3*cos(q1 + q2))/5 + (2*m3*qdd1*cos(q2 + q3))/25 - (4*m3*qd1*qd3*sin(q3))/25 - (4*m3*qd2*qd3*sin(q3))/25 \\\\ \\\\\n",
    "                                                                                                                                                                                                                                                                                                                                                                                                                                                                                                                                                                                                      Izz*qdd1 + Izz*qdd2 + Izz*qdd3 + (m3*qdd1)/25 + (m3*qdd2)/25 + (m3*qdd3)/25 + (2*m3*qdd1*cos(q3))/25 + (2*m3*qdd2*cos(q3))/25 + (g*m3*cos(q1 + q2 + q3))/5 + (2*m3*qd1^2*sin(q2 + q3))/25 + (2*m3*qd1^2*sin(q3))/25 + (2*m3*qd2^2*sin(q3))/25 + (2*m3*qdd1*cos(q2 + q3))/25 + (4*m3*qd1*qd2*sin(q3))/25\n",
    "\\end{bmatrix}\n",
    "\\end{align}"
   ]
  },
  {
   "cell_type": "markdown",
   "metadata": {},
   "source": [
    "**2. Use the dynamic model of Baxter in the toolbox to do the following:**\n",
    "\n",
    "**Given the file “desired accel.mat” calculate the joint torques $τ$ necessary to cause this acceleration. Turn in plots of the joint torques for each joint. You are only given variables for joint position, $q$, and time. You will have to use these to find $q̇$ and $q̈$.**\n"
   ]
  }
 ],
 "metadata": {
  "kernelspec": {
   "display_name": "Python 3",
   "language": "python",
   "name": "python3"
  },
  "language_info": {
   "codemirror_mode": {
    "name": "ipython",
    "version": 3
   },
   "file_extension": ".py",
   "mimetype": "text/x-python",
   "name": "python",
   "nbconvert_exporter": "python",
   "pygments_lexer": "ipython3",
   "version": "3.5.2"
  }
 },
 "nbformat": 4,
 "nbformat_minor": 2
}
