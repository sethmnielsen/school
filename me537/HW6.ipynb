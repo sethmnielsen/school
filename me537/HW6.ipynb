{
 "cells": [
  {
   "cell_type": "markdown",
   "metadata": {},
   "source": [
    "# Homework 6 - Seth Nielsen - ME 537"
   ]
  },
  {
   "cell_type": "markdown",
   "metadata": {},
   "source": [
    "**1) Spong, Robot Modeling and Control Problems** \n",
    "\n",
    "**(a) Find the moments of inertia and cross products of inertia of a uniform rectangular solid with sides a, b, and c with respect to a coordinate frame with the origin at one corner and the axes along the edges of the solid.**\n"
   ]
  },
  {
   "cell_type": "code",
   "execution_count": null,
   "metadata": {},
   "outputs": [],
   "source": [
    "syms m a b c real\n",
    "r = [a/2 b/2 c/2];\n",
    "\n",
    "Ixx = (m/12) * (b^2 + c^2);\n",
    "Iyy = (m/12) * (a^2 + c^2);\n",
    "Izz = (m/12) * (a^2 + b^2);\n",
    "\n",
    "Icom = [Ixx 0 0; 0 Iyy 0; 0 0 Izz];\n",
    "\n",
    "I0 = Icom - m*skew(r)^2;\n",
    "\n",
    "simplify(I0)\n",
    "\n",
    "-------------\n",
    "\n",
    "ans =\n",
    " \n",
    "[ (m*(b^2 + c^2))/3,        -(a*b*m)/4,        -(a*c*m)/4]\n",
    "[        -(a*b*m)/4, (m*(a^2 + c^2))/3,        -(b*c*m)/4]\n",
    "[        -(a*c*m)/4,        -(b*c*m)/4, (m*(a^2 + b^2))/3]"
   ]
  },
  {
   "cell_type": "markdown",
   "metadata": {},
   "source": [
    "The moments of inertia are along the diagonal of $I_0$, and the products of inertia are the values on the off-diagonal."
   ]
  },
  {
   "cell_type": "markdown",
   "metadata": {},
   "source": [
    "**(b)  Show that the inertia matrix $M(q)$ for an n-link robot is always positive definite. (Look at the definition of a positive definite matrix on wikipedia if needed. The form of Kinetic energy for a n-link robot may help you here.)**"
   ]
  },
  {
   "cell_type": "markdown",
   "metadata": {},
   "source": [
    "Kinetic energy $K \\geq 0$ by definition. Since $K = \\frac{1}{2} \\dot{q}^\\textsf{T} M(q) \\dot{q}$, it is clear that the quantity $ \\dot{q}^\\textsf{T} M(q) \\dot{q}$ must also be positive (or zero in the case of $\\dot{q} = 0$). A matrix $M$ is defined to be positive definite if the scalar $z^\\textsf{T} Mz$ is strictly positive for every non-zero column vector $z$ of real numbers. This means the inertia matrix $M(q)$ is always positive definite."
   ]
  },
  {
   "cell_type": "markdown",
   "metadata": {},
   "source": [
    "**(c) Consider a 3-link Cartesian manipulator (see picture with prismatic joint in the z, then y, then x direction of the global frame). Assume the links are rectangular instead of cylindrical and do the following:**\n",
    "\n",
    "**i. Compute the inertia tensor $I_i$ for each link $i = 1, 2, 3$ assuming that the links are uniform rectangular solids of length 1, width 1/4, height 1/4, and mass of 1.**\n"
   ]
  },
  {
   "cell_type": "code",
   "execution_count": null,
   "metadata": {},
   "outputs": [],
   "source": [
    "l = 1;\n",
    "w = 0.25;\n",
    "m = 1;\n",
    "\n",
    "I1 = [(m/12) * (l^2 + w^2) 0 0; ...\n",
    "      0 (m/12) * (l^2 + w^2) 0; ...\n",
    "      0 0 (m/12) * (2*w^2)]\n",
    "\n",
    "I2 = [(m/12) * (l^2 + w^2) 0 0; ...\n",
    "      0 (m/12) * (2*w^2) 0;     ...\n",
    "      0 0 (m/12) * (l^2 + w^2)]\n",
    "\n",
    "I3 = [(m/12) * (2*w^2) 0 0;     ...\n",
    "      0 (m/12) * (l^2 + w^2) 0; ...\n",
    "      0 0 (m/12) * (l^2 + w^2)]\n",
    "\n",
    "-----------\n",
    "\n",
    "I1 =\n",
    "\n",
    "    0.0885         0         0\n",
    "         0    0.0885         0\n",
    "         0         0    0.0104\n",
    "\n",
    "\n",
    "I2 =\n",
    "\n",
    "    0.0885         0         0\n",
    "         0    0.0104         0\n",
    "         0         0    0.0885\n",
    "\n",
    "\n",
    "I3 =\n",
    "\n",
    "    0.0104         0         0\n",
    "         0    0.0885         0\n",
    "         0         0    0.0885"
   ]
  },
  {
   "cell_type": "markdown",
   "metadata": {},
   "source": [
    "**ii. Compute the 3x3 inertia matrix $M(q)$ for this manipulator.**"
   ]
  },
  {
   "cell_type": "code",
   "execution_count": null,
   "metadata": {},
   "outputs": [],
   "source": []
  }
 ],
 "metadata": {
  "kernelspec": {
   "display_name": "Python 3",
   "language": "python",
   "name": "python3"
  },
  "language_info": {
   "codemirror_mode": {
    "name": "ipython",
    "version": 3
   },
   "file_extension": ".py",
   "mimetype": "text/x-python",
   "name": "python",
   "nbconvert_exporter": "python",
   "pygments_lexer": "ipython3",
   "version": "3.5.2"
  }
 },
 "nbformat": 4,
 "nbformat_minor": 2
}
