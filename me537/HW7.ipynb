{
 "cells": [
  {
   "cell_type": "markdown",
   "metadata": {},
   "source": [
    "# Homework 7 - Seth Nielsen - ME 537"
   ]
  },
  {
   "cell_type": "markdown",
   "metadata": {},
   "source": [
    "### **Problem 1 parts (a) and (b)**"
   ]
  },
  {
   "cell_type": "code",
   "execution_count": null,
   "metadata": {},
   "outputs": [],
   "source": [
    "function Torques = calc_tau(q, qd, qdd, rob)\n",
    "    n = 3;\n",
    "    l = 0.4;\n",
    "    c = 0.2;\n",
    "    m = 1.0;\n",
    "    g = [0; -9.81; 0];\n",
    "    Izz = 0.01;\n",
    "    Ic = [0 0 0; 0 0 0; 0 0 Izz];"
   ]
  },
  {
   "cell_type": "code",
   "execution_count": null,
   "metadata": {},
   "outputs": [],
   "source": [
    "    % Forward Kinematic Pass\n",
    "\n",
    "    w_p = zeros(3,1);\n",
    "    alph_p = zeros(3,1);\n",
    "    ac_p = zeros(3,1);\n",
    "    ae_p = zeros(3,1);\n",
    "\n",
    "    z = [0; 0; 1];\n",
    "    r_pc = [c; 0; 0];\n",
    "    r_p = [l; 0; 0];\n",
    "\n",
    "    wi = zeros(3);\n",
    "    alphi = zeros(3);\n",
    "    aci = zeros(3);\n",
    "    aei = zeros(3);\n",
    "    for i=1:n\n",
    "        R_p = rotz(q(i))';\n",
    "        T_0 = double(rob.A([1:i], q(1:i)));\n",
    "        R_0 = T_0(1:3,1:3)';\n",
    "\n",
    "        w = R_p * w_p  +  R_0 * z * qd(i);\n",
    "        alph = R_p * alph_p  +  R_0 * z * qdd(i) + cross(w, R_0 * z * qd(i));\n",
    "\n",
    "        ac = R_p * ae_p  +  cross(alph, r_pc)  +  cross(w, cross(w, r_pc));\n",
    "        ae = R_p * ae_p  +  cross(alph, r_p )  +  cross(w, cross(w, r_p ));\n",
    "\n",
    "        w_p = w;\n",
    "        alph_p = alph;\n",
    "        ac_p = ac;\n",
    "        ae_p = ae;\n",
    "\n",
    "        wi(:,i) = w;\n",
    "        alphi(:,i) = alph;\n",
    "        aci(:,i) = ac;\n",
    "        aei(:,i) = ae;\n",
    "    end"
   ]
  },
  {
   "cell_type": "code",
   "execution_count": null,
   "metadata": {},
   "outputs": [],
   "source": [
    "    % Backward Force/Torque Pass\n",
    "\n",
    "    tau_n = zeros(3,1);\n",
    "    f_n = zeros(3,1);\n",
    "\n",
    "    r_pc = [c; 0; 0];\n",
    "    r_c = [-c; 0; 0];\n",
    "\n",
    "    taui = zeros(3);\n",
    "    fi = zeros(3);\n",
    "    for i=n:-1:1\n",
    "        T_0 = double(rob.A([1:i], q(1:i)));\n",
    "        R_0 = T_0(1:3,1:3)';\n",
    "        R_n = rotz(q(i));\n",
    "\n",
    "        f = R_n * f_n  -  m * R_0 * g  + m * aci(:,i);\n",
    "        tau = R_n * tau_n  -  cross(f, r_pc)  +  cross(R_n * f_n, r_c)  +  ...\n",
    "              Ic * alphi(:,i)  +  cross(wi(:,i), Ic * wi(:,i));\n",
    "\n",
    "        tau_n = tau;\n",
    "        f_n = f;\n",
    "\n",
    "        taui(:,i) = tau;\n",
    "        fi(:,i) = f;\n",
    "    end\n",
    "\n",
    "    Torques = taui(3,:)';\n",
    "    \n",
    "end"
   ]
  },
  {
   "cell_type": "code",
   "execution_count": null,
   "metadata": {},
   "outputs": [],
   "source": [
    "% Begin main script\n",
    "\n",
    "q = [pi/4 pi/4 pi/4];\n",
    "qd = [pi/6 -pi/4 pi/3];\n",
    "qdd = [-pi/6 pi/3 pi/6];\n",
    "\n",
    "n = 3;\n",
    "l = 0.4;\n",
    "c = 0.2;\n",
    "m = 1.0;\n",
    "g = [0; -9.81; 0];\n",
    "Izz = 0.01;\n",
    "Ic = [0 0 0; 0 0 0; 0 0 Izz];\n",
    "\n",
    "rob = SerialLink([0 0 l 0; 0 0 l 0; 0 0 l 0],'gravity',-g');\n",
    "for i=1:3\n",
    "    rob.links(i).I = [0 0 Izz];\n",
    "    rob.links(i).m = m;\n",
    "    rob.links(i).r = [-c; 0; 0];\n",
    "    rob.links(i).Jm = 0;\n",
    "end\n",
    "\n",
    "tau = calc_tau(q, qd, qdd, rob)\n",
    "tau_rne = rob.rne(q,qd,qdd)"
   ]
  },
  {
   "cell_type": "code",
   "execution_count": null,
   "metadata": {},
   "outputs": [],
   "source": [
    "Results\n",
    "\n",
    "tau =\n",
    "\n",
    "    5.5833\n",
    "   -1.1876\n",
    "   -1.2796\n",
    "\n",
    "\n",
    "tau_rne =\n",
    "\n",
    "    5.5833   -1.1876   -1.2796"
   ]
  },
  {
   "cell_type": "markdown",
   "metadata": {},
   "source": [
    "My own calc_tau function and the Toolbox's rne function returned the same values."
   ]
  },
  {
   "cell_type": "markdown",
   "metadata": {},
   "source": [
    "### **part (c)**"
   ]
  },
  {
   "cell_type": "code",
   "execution_count": null,
   "metadata": {},
   "outputs": [],
   "source": [
    "% q = q*0;\n",
    "qd = qd*0;\n",
    "qdd = qdd*0;\n",
    "\n",
    "G = calc_tau(q, qd, qdd, rob);\n",
    "% G = G(3,:)'\n",
    "\n",
    "qdd1 = [1 0 0];\n",
    "qdd2 = [0 1 0];\n",
    "qdd3 = [0 0 1];\n",
    "M(:,1) = calc_tau(q, qd, qdd1, rob) - G;\n",
    "M(:,2) = calc_tau(q, qd, qdd2, rob) - G;\n",
    "M(:,3) = calc_tau(q, qd, qdd3, rob) - G;\n",
    "\n",
    "M\n",
    "M_inertia = rob.inertia(q)"
   ]
  },
  {
   "cell_type": "code",
   "execution_count": null,
   "metadata": {},
   "outputs": [],
   "source": [
    "Results\n",
    "\n",
    "M =\n",
    "\n",
    "    1.0825    0.5428    0.1066\n",
    "    0.5428    0.3731    0.1066\n",
    "    0.1066    0.1066    0.0500\n",
    "\n",
    "\n",
    "M_inertia =\n",
    "\n",
    "    1.0825    0.5428    0.1066\n",
    "    0.5428    0.3731    0.1066\n",
    "    0.1066    0.1066    0.0500"
   ]
  },
  {
   "cell_type": "markdown",
   "metadata": {},
   "source": [
    "The values returned by both methods were the same."
   ]
  },
  {
   "cell_type": "markdown",
   "metadata": {},
   "source": [
    "### **part (d)**"
   ]
  },
  {
   "cell_type": "code",
   "execution_count": null,
   "metadata": {},
   "outputs": [],
   "source": [
    "qd = [pi/6 -pi/4 pi/3];\n",
    "qdd = [-pi/6 pi/3 pi/6];\n",
    "\n",
    "Cqd = calc_tau(q, qd, qdd, rob) - G - M*qdd'\n",
    "Cqd_coriolis = rob.coriolis(q, qd) * qd'"
   ]
  },
  {
   "cell_type": "code",
   "execution_count": null,
   "metadata": {},
   "outputs": [],
   "source": [
    "Results\n",
    "\n",
    "Cqd =\n",
    "\n",
    "   -0.0235\n",
    "    0.0374\n",
    "    0.0258\n",
    "\n",
    "\n",
    "Cqd_coriolis =\n",
    "\n",
    "   -0.0235\n",
    "    0.0374\n",
    "    0.0258"
   ]
  },
  {
   "cell_type": "markdown",
   "metadata": {},
   "source": [
    "Once again, the values were equivalent between both methods."
   ]
  },
  {
   "cell_type": "markdown",
   "metadata": {},
   "source": [
    "### **Problem 2** "
   ]
  },
  {
   "cell_type": "markdown",
   "metadata": {},
   "source": [
    "I completed this problem."
   ]
  }
 ],
 "metadata": {
  "kernelspec": {
   "display_name": "Python 3",
   "language": "python",
   "name": "python3"
  },
  "language_info": {
   "codemirror_mode": {
    "name": "ipython",
    "version": 3
   },
   "file_extension": ".py",
   "mimetype": "text/x-python",
   "name": "python",
   "nbconvert_exporter": "python",
   "pygments_lexer": "ipython3",
   "version": "3.5.2"
  }
 },
 "nbformat": 4,
 "nbformat_minor": 2
}
